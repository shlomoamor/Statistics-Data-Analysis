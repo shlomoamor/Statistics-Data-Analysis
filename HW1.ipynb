{
  "nbformat": 4,
  "nbformat_minor": 0,
  "metadata": {
    "kernelspec": {
      "display_name": "Python 3",
      "language": "python",
      "name": "python3"
    },
    "language_info": {
      "codemirror_mode": {
        "name": "ipython",
        "version": 3
      },
      "file_extension": ".py",
      "mimetype": "text/x-python",
      "name": "python",
      "nbconvert_exporter": "python",
      "pygments_lexer": "ipython3",
      "version": "3.7.6"
    },
    "colab": {
      "name": "HW1 5.12.ipynb",
      "provenance": [],
      "collapsed_sections": []
    }
  },
  "cells": [
    {
      "cell_type": "markdown",
      "metadata": {
        "id": "HHXG8dAYOsiq"
      },
      "source": [
        "### IDs:\n",
        "Insert yours IDs to the cell below"
      ]
    },
    {
      "cell_type": "markdown",
      "metadata": {
        "id": "eR8xBuu6Osiy"
      },
      "source": [
        " **ID #1: 311149082**\n",
        "\n",
        "**ID #2: 000803254**\n"
      ]
    },
    {
      "cell_type": "markdown",
      "metadata": {
        "id": "_NXCK36tOsi3"
      },
      "source": [
        "## Read the following instructions carefully:\n",
        "\n",
        "1. This jupyter notebook contains all the step by step instructions needed for this exercise.\n",
        "1. You are free to add cells.\n",
        "1. Write your functions and your answers in this jupyter notebook only.\n",
        "1. Answers to theoretical questions should be written in **markdown cells (with $\\LaTeX$ support)**.\n",
        "1. Submit this jupyter notebook only using your ID as a filename. Not to use ZIP or RAR. For example, your Moodle submission file name should look like this (two id numbers): `123456789_987654321.ipynb`."
      ]
    },
    {
      "cell_type": "code",
      "metadata": {
        "id": "hUdB7bVmS2SZ"
      },
      "source": [
        "from scipy import stats\n",
        "import pandas as pd\n",
        "import numpy as np\n",
        "import matplotlib.pyplot as plt\n",
        "%matplotlib inline\n",
        "plt.rcParams['figure.figsize'] = (10.0,5.0) # set default size of plots"
      ],
      "execution_count": 1,
      "outputs": []
    },
    {
      "cell_type": "markdown",
      "metadata": {
        "id": "UmEqVj8ROsi6"
      },
      "source": [
        "### **Question 1 - Defective products**"
      ]
    },
    {
      "cell_type": "markdown",
      "metadata": {
        "id": "WGRNhYpLOsi-"
      },
      "source": [
        "In a manufacturing pipeline products are 3% defective. We are interested in examining a defective product to see what goes wrong on the belt. We need to ask the facility manager to send us a set of independent samples for examination."
      ]
    },
    {
      "cell_type": "markdown",
      "metadata": {
        "id": "s8kXUgUnOsjA"
      },
      "source": [
        "#### 1.A\n",
        "\n",
        "How many independent samples should we ask for in order to have a 85% probability of having at least one defective product in the batch sent? You should write a function."
      ]
    },
    {
      "cell_type": "markdown",
      "metadata": {
        "id": "C6na-9bta37t"
      },
      "source": [
        "We begin by defining the random variable $X$.<br> <br> \n",
        "$X$ ~ $Binom(n, p)$ where $p=0.03$. This means that $X$ is the number of successes (how many defective product) given n attempts.\n",
        "<br>\n",
        "In general,\n",
        "$$P(X \\ge k)=1-P(X<k)=1-P(X \\leq k-1) = p_{goal}$$\n",
        "We want to find a value for $n$ such that we have that: $$P(X\\ge1) = 0.85$$"
      ]
    },
    {
      "cell_type": "code",
      "metadata": {
        "id": "aZ9TbKY_OsjB"
      },
      "source": [
        "# This function runs many simulations until we find the right n-value\n",
        "# Input: p, k and threshold.\n",
        "# Output: n and all the calculated probabilities \n",
        "def find_n(prob_defective, threshold, k_defective):\n",
        "  res = []\n",
        "  for n in range(0, 1000):\n",
        "    distrabution = 1 - stats.binom.cdf(k=k_defective-1, n=n, p=prob_defective)\n",
        "    res.append(distrabution)\n",
        "    if distrabution >= threshold:\n",
        "      return n, res\n",
        "  "
      ],
      "execution_count": 2,
      "outputs": []
    },
    {
      "cell_type": "code",
      "metadata": {
        "id": "qzYtlLUSiM39"
      },
      "source": [
        "# This function plots the probabilities calculated in the find_n function\n",
        "# Input: probability_array, k and threshold.\n",
        "def plot_probs(results, threshold, k_defective):\n",
        "  plt.plot(np.arange(0, len(results)),results,  color='b', label=\"Probabilities\")\n",
        "  plt.axhline( y=threshold,color='r',linestyle=\"dashed\", alpha = 0.5)\n",
        "  plt.axvline( x=len(results)-1,color='b',linestyle=\"dashed\", alpha = 0.5)\n",
        "  plt.ylim([0,1.0])\n",
        "  plt.xlabel(\"Number of products\")\n",
        "  plt.ylabel((\"Probability of \" + str(k_defective) + \" defective products\"))\n",
        "  plt.legend()\n",
        "  plt.show()"
      ],
      "execution_count": 3,
      "outputs": []
    },
    {
      "cell_type": "code",
      "metadata": {
        "id": "7IxfvDvDipaz",
        "colab": {
          "base_uri": "https://localhost:8080/",
          "height": 317
        },
        "outputId": "06069184-5d7a-4478-acd0-fa70418923b2"
      },
      "source": [
        "prob_defective, threshold, k_defective = 0.03,0.85,1\n",
        "n_val, res = find_n(prob_defective, threshold, k_defective)\n",
        "plot_probs(res,threshold, k_defective)\n",
        "print(\"\\nWe found that the value for n is:\", n_val)"
      ],
      "execution_count": 4,
      "outputs": [
        {
          "output_type": "display_data",
          "data": {
            "image/png": "[encoded data removed]",
            "text/plain": [
              "<Figure size 432x288 with 1 Axes>"
            ]
          },
          "metadata": {
            "tags": [],
            "needs_background": "light"
          }
        },
        {
          "output_type": "stream",
          "text": [
            "\n",
            "We found that the value for n is: 63\n"
          ],
          "name": "stdout"
        }
      ]
    },
    {
      "cell_type": "markdown",
      "metadata": {
        "id": "PZ78Q3ZQOsjN"
      },
      "source": [
        "#### 1.B\n",
        "Answer this part again with the following changes: products are 4% defective and we want a 95% probability of at least one defective product in the batch."
      ]
    },
    {
      "cell_type": "code",
      "metadata": {
        "id": "n4d0J6RHOsjP",
        "colab": {
          "base_uri": "https://localhost:8080/",
          "height": 317
        },
        "outputId": "b4ee7529-8a90-45e3-ee2f-dbca444d2577"
      },
      "source": [
        "prob_defective, threshold, k_defective = 0.04,0.95,1\n",
        "n_val, res = find_n(prob_defective, threshold, k_defective)\n",
        "plot_probs(res,threshold, k_defective)\n",
        "print(\"\\nWe found that the value for n is:\", n_val)"
      ],
      "execution_count": 5,
      "outputs": [
        {
          "output_type": "display_data",
          "data": {
            "image/png": "[encoded data removed]",
            "text/plain": [
              "<Figure size 432x288 with 1 Axes>"
            ]
          },
          "metadata": {
            "tags": [],
            "needs_background": "light"
          }
        },
        {
          "output_type": "stream",
          "text": [
            "\n",
            "We found that the value for n is: 74\n"
          ],
          "name": "stdout"
        }
      ]
    },
    {
      "cell_type": "markdown",
      "metadata": {
        "id": "UUWaEH-fOsjX"
      },
      "source": [
        "#### 1.C \n",
        "\n",
        "Consider the following cases and calculate how many independent samples are required: \n",
        "\n",
        "1. Products are 10% defective and we want a 90% probability of at least 5 defective products in the batch.\n",
        "1. Products are 30% defective and we want a 90% probability of at least 15 defective products in the batch.\n",
        "\n",
        "Explain the difference between the two results. You should use mathematical reasoning based on the properties of distributions you saw in class and visualizations in your answer."
      ]
    },
    {
      "cell_type": "code",
      "metadata": {
        "id": "gLo3KbsNOsjY",
        "colab": {
          "base_uri": "https://localhost:8080/",
          "height": 317
        },
        "outputId": "1b1295d3-e5da-4679-8447-104eb8da3b3f"
      },
      "source": [
        "prob_defective, threshold, k_defective = 0.10,0.9,5\n",
        "n_val, res = find_n(prob_defective, threshold, k_defective)\n",
        "plot_probs(res,threshold, k_defective)\n",
        "print(\"\\nWe found that the value for n is:\", n_val)"
      ],
      "execution_count": 6,
      "outputs": [
        {
          "output_type": "display_data",
          "data": {
            "image/png": "[encoded data removed]",
            "text/plain": [
              "<Figure size 432x288 with 1 Axes>"
            ]
          },
          "metadata": {
            "tags": [],
            "needs_background": "light"
          }
        },
        {
          "output_type": "stream",
          "text": [
            "\n",
            "We found that the value for n is: 78\n"
          ],
          "name": "stdout"
        }
      ]
    },
    {
      "cell_type": "code",
      "metadata": {
        "id": "tImf4mfXkfpV",
        "colab": {
          "base_uri": "https://localhost:8080/",
          "height": 317
        },
        "outputId": "3ab53578-8d0c-4fad-e402-30a30559d04a"
      },
      "source": [
        "prob_defective, threshold, k_defective = 0.30,0.9,15\n",
        "n_val, res = find_n(prob_defective, threshold, k_defective)\n",
        "plot_probs(res,threshold, k_defective)\n",
        "print(\"\\nWe found that the value for n is:\", n_val)"
      ],
      "execution_count": 7,
      "outputs": [
        {
          "output_type": "display_data",
          "data": {
            "image/png": "[encoded data removed]",
            "text/plain": [
              "<Figure size 432x288 with 1 Axes>"
            ]
          },
          "metadata": {
            "tags": [],
            "needs_background": "light"
          }
        },
        {
          "output_type": "stream",
          "text": [
            "\n",
            "We found that the value for n is: 64\n"
          ],
          "name": "stdout"
        }
      ]
    },
    {
      "cell_type": "markdown",
      "metadata": {
        "id": "g_nrEEmdsb-h"
      },
      "source": [
        "From the first example we get: $$ 1-P(X\\leq l-1) =1-\\sum_{k=1}^{l-1}\\binom{n}{k} p^k(1-p)^{n-k}=1-\\sum_{k=1}^{4}\\binom{n}{k} 0.1^k(0.9)^{n-k}=0.9 $$\n",
        "$$\\sum_{k=1}^{4}\\binom{n}{k} 0.1^k(0.9)^{n-k}=0.1$$\n",
        " \n",
        "From the second example we get:\n",
        "$$1-P(X\\leq l-1) =1-\\sum_{k=1}^{l-1}\\binom{n}{k} p^k(1-p)^{n-k}=1-\\sum_{k=1}^{14}\\binom{n}{k} 0.3^k(0.7)^{n-k}=0.9$$\n",
        "\n",
        "$$\\sum_{k=1}^{14}\\binom{n}{k} 0.3^k(0.7)^{n-k}=0.1 $$\n",
        "\n",
        "We can see from the results we expect to see a smaller value for $n$ than for the first one since, the change in the probabilty value $p$ has a great influence in the factor of the $k$ value (goal number) of defective products. <br>Since we have that the second example is 3 times the size of the first example then, when we enlarge $p$ by 3 there would be much less samples required in order to find the amount of defective products."
      ]
    },
    {
      "cell_type": "markdown",
      "metadata": {
        "id": "JmACTVnBOsjf"
      },
      "source": [
        "### Question 2 - Rent distributions in Randomistan"
      ]
    },
    {
      "cell_type": "markdown",
      "metadata": {
        "id": "Zjz9kG3gOsjg"
      },
      "source": [
        "The state of Randomistan conducted a survey to study the distribution of rent paid in two neighboring towns, Stochastic Heights and Random Grove, to be denoted SH and RG.<br> \n",
        "\n",
        "Here are some findings of the survey:\n",
        "* The population of SH and RG is 16,000 and 22,000 respectively. <br>\n",
        "* The mean rent in SH and RG is 6300RCU and 4200RCU respectively.\n",
        "* The median rent is 4600RCU in both towns.\n",
        "* The IQR of the rent is smaller in SH than in RG.\n",
        "\n",
        "All data generated in this question needs to be consistent with these findings."
      ]
    },
    {
      "cell_type": "markdown",
      "metadata": {
        "id": "TxI7GXrjOsjh"
      },
      "source": [
        "#### 2.A\n",
        "Draw histograms that describe 2 different scenarii of possible distributions of rent in the two towns.\u000bYour histograms should:<br>\n",
        "* Use bins of 100RCU each.\n",
        "* Have at least 10 non zero bins."
      ]
    },
    {
      "cell_type": "code",
      "metadata": {
        "id": "fVpi_XpZ9KT_"
      },
      "source": [
        "# Information from the question\n",
        "sh_pop,rg_pop = 16_000,22_000\n",
        "sh_mean_rent, rg_mean_rent = 6300,4200\n",
        "median_rent = 4600"
      ],
      "execution_count": 8,
      "outputs": []
    },
    {
      "cell_type": "code",
      "metadata": {
        "id": "Nh3O52Bp9Yx2"
      },
      "source": [
        "def create_distrabution(pop_size, mean_rent, median_rent, max_rent, quartile,start=0):\n",
        "  # We ensure that the middle of the array is the median\n",
        "  median_arr = np.array([median_rent, median_rent])\n",
        "  # We construct 4 arrays from start -> Q1, Q-> Med and so on..\n",
        "  zero_q1_arr = np.random.randint(start, median_rent-quartile, size=((pop_size)//4)).astype(np.float)\n",
        "  q1_med_arr = np.random.randint(median_rent-quartile, median_rent, size=((pop_size)//4)-1).astype(np.float)\n",
        "  #print(max(zero_q1_arr))\n",
        "  #print(max(q1_med_arr))\n",
        "  med_q3_arr = np.random.randint(median_rent+1, median_rent+quartile, size=((pop_size)//4)-1).astype(np.float)\n",
        "  q3_end_arr = np.random.randint(median_rent+quartile, max_rent, size=((pop_size)//4)).astype(np.float)\n",
        "  # Now we need to ensure that the mean is as we want it, so we add a factor to the last subarray\n",
        "  factor = ((mean_rent*pop_size)-(np.sum(zero_q1_arr) + np.sum(q1_med_arr) + np.sum(median_arr) + np.sum(med_q3_arr) + np.sum(q3_end_arr))) / ((pop_size/4)-1)\n",
        "  if factor>0:\n",
        "    q3_end_arr += factor\n",
        "  else:\n",
        "    zero_q1_arr += factor\n",
        "  t=np.concatenate((zero_q1_arr,q1_med_arr, median_arr, med_q3_arr,q3_end_arr))\n",
        "  return np.concatenate((zero_q1_arr,q1_med_arr, median_arr, med_q3_arr,q3_end_arr))"
      ],
      "execution_count": 9,
      "outputs": []
    },
    {
      "cell_type": "markdown",
      "metadata": {
        "id": "p8SBhop2hgZM"
      },
      "source": [
        "We will use our function to get samples for the first scenario for both towns:"
      ]
    },
    {
      "cell_type": "code",
      "metadata": {
        "id": "hFwj-Q3_bmUl",
        "colab": {
          "base_uri": "https://localhost:8080/",
          "height": 111
        },
        "outputId": "659f940e-bd8e-4d82-a84b-8de7631f6034"
      },
      "source": [
        "sh_sample1 = create_distrabution(sh_pop, sh_mean_rent, median_rent, 12000, median_rent//6)\n",
        "rg_sample1 = create_distrabution(rg_pop, rg_mean_rent, median_rent, 12000, median_rent//2)\n",
        "pd1 = pd.DataFrame([{\"Population\":len(sh_sample1), \"Mean\":np.rint(np.mean(sh_sample1)),\"Median\":np.median(sh_sample1), \"IQR\":np.rint(stats.iqr(sh_sample1))},\n",
        "                      {\"Population\":len(rg_sample1), \"Mean\":np.rint(np.mean(rg_sample1)),\"Median\":np.median(rg_sample1), \"IQR\":np.rint(stats.iqr(rg_sample1))}], index=[\"SH\", \"RG\"])\n",
        "pd1"
      ],
      "execution_count": 10,
      "outputs": [
        {
          "output_type": "execute_result",
          "data": {
            "text/html": [
              "<div>\n",
              "<style scoped>\n",
              "    .dataframe tbody tr th:only-of-type {\n",
              "        vertical-align: middle;\n",
              "    }\n",
              "\n",
              "    .dataframe tbody tr th {\n",
              "        vertical-align: top;\n",
              "    }\n",
              "\n",
              "    .dataframe thead th {\n",
              "        text-align: right;\n",
              "    }\n",
              "</style>\n",
              "<table border=\"1\" class=\"dataframe\">\n",
              "  <thead>\n",
              "    <tr style=\"text-align: right;\">\n",
              "      <th></th>\n",
              "      <th>Population</th>\n",
              "      <th>Mean</th>\n",
              "      <th>Median</th>\n",
              "      <th>IQR</th>\n",
              "    </tr>\n",
              "  </thead>\n",
              "  <tbody>\n",
              "    <tr>\n",
              "      <th>SH</th>\n",
              "      <td>16000</td>\n",
              "      <td>6300.0</td>\n",
              "      <td>4600.0</td>\n",
              "      <td>2879.0</td>\n",
              "    </tr>\n",
              "    <tr>\n",
              "      <th>RG</th>\n",
              "      <td>22000</td>\n",
              "      <td>4200.0</td>\n",
              "      <td>4600.0</td>\n",
              "      <td>5342.0</td>\n",
              "    </tr>\n",
              "  </tbody>\n",
              "</table>\n",
              "</div>"
            ],
            "text/plain": [
              "    Population    Mean  Median     IQR\n",
              "SH       16000  6300.0  4600.0  2879.0\n",
              "RG       22000  4200.0  4600.0  5342.0"
            ]
          },
          "metadata": {
            "tags": []
          },
          "execution_count": 10
        }
      ]
    },
    {
      "cell_type": "markdown",
      "metadata": {
        "id": "2nXcWyT4hqj9"
      },
      "source": [
        "Now, we will run it again and get different samples:"
      ]
    },
    {
      "cell_type": "code",
      "metadata": {
        "id": "3waDpkYcboc9",
        "colab": {
          "base_uri": "https://localhost:8080/",
          "height": 111
        },
        "outputId": "d09976e3-2d4c-4d84-e86a-666c49fe8a2d"
      },
      "source": [
        "sh_sample2 = create_distrabution(sh_pop, sh_mean_rent, median_rent, 12000, median_rent//6)\n",
        "rg_sample2 = create_distrabution(rg_pop, rg_mean_rent, median_rent, 12000, median_rent//2)\n",
        "pd2 = pd.DataFrame([{\"Population\":len(sh_sample2), \"Mean\":np.rint(np.mean(sh_sample2)),\"Median\":np.median(sh_sample2), \"IQR\":np.rint(stats.iqr(sh_sample2))},\n",
        "                      {\"Population\":len(rg_sample2), \"Mean\":np.rint(np.mean(rg_sample2)),\"Median\":np.median(rg_sample2), \"IQR\":np.rint(stats.iqr(rg_sample2))}], index=[\"SH\", \"RG\"])\n",
        "pd2"
      ],
      "execution_count": 11,
      "outputs": [
        {
          "output_type": "execute_result",
          "data": {
            "text/html": [
              "<div>\n",
              "<style scoped>\n",
              "    .dataframe tbody tr th:only-of-type {\n",
              "        vertical-align: middle;\n",
              "    }\n",
              "\n",
              "    .dataframe tbody tr th {\n",
              "        vertical-align: top;\n",
              "    }\n",
              "\n",
              "    .dataframe thead th {\n",
              "        text-align: right;\n",
              "    }\n",
              "</style>\n",
              "<table border=\"1\" class=\"dataframe\">\n",
              "  <thead>\n",
              "    <tr style=\"text-align: right;\">\n",
              "      <th></th>\n",
              "      <th>Population</th>\n",
              "      <th>Mean</th>\n",
              "      <th>Median</th>\n",
              "      <th>IQR</th>\n",
              "    </tr>\n",
              "  </thead>\n",
              "  <tbody>\n",
              "    <tr>\n",
              "      <th>SH</th>\n",
              "      <td>16000</td>\n",
              "      <td>6300.0</td>\n",
              "      <td>4600.0</td>\n",
              "      <td>2880.0</td>\n",
              "    </tr>\n",
              "    <tr>\n",
              "      <th>RG</th>\n",
              "      <td>22000</td>\n",
              "      <td>4200.0</td>\n",
              "      <td>4600.0</td>\n",
              "      <td>5356.0</td>\n",
              "    </tr>\n",
              "  </tbody>\n",
              "</table>\n",
              "</div>"
            ],
            "text/plain": [
              "    Population    Mean  Median     IQR\n",
              "SH       16000  6300.0  4600.0  2880.0\n",
              "RG       22000  4200.0  4600.0  5356.0"
            ]
          },
          "metadata": {
            "tags": []
          },
          "execution_count": 11
        }
      ]
    },
    {
      "cell_type": "code",
      "metadata": {
        "id": "Jc0GA_faeLGk",
        "colab": {
          "base_uri": "https://localhost:8080/",
          "height": 404
        },
        "outputId": "34d2f29e-6c81-41e7-c71a-6b713d7a5d78"
      },
      "source": [
        "# Create two histograms for each scenario\n",
        "fig, ax = plt.subplots(ncols=2, figsize=(23,6))\n",
        "# Scenario 1\n",
        "ax[0].hist(sh_sample1, color = 'red',bins=np.arange(np.min(sh_sample1), np.max(sh_sample1)+100, 200), label='sh_sample1', alpha=.9,  edgecolor='black')\n",
        "ax[0].hist(rg_sample1, color = 'blue', bins=np.arange(np.min(rg_sample1), np.max(rg_sample1)+100, 200), label='rg_sample1', alpha=.6,  edgecolor='black')\n",
        "ax[0].legend()\n",
        "ax[0].set_xlabel('rent')\n",
        "ax[0].set_ylabel('frequency')\n",
        "ax[0].set_title('Scenario 1')\n",
        "stats_sh_1 = f\"sh_sample1:\\nMean = {sh_sample1.mean()} \\nMedian = {np.median(sh_sample1)} \\nIQR = {stats.iqr(sh_sample1)} \\n\\n\"\n",
        "stats_rg_1 = f\"rg_sample1:\\nMean = {rg_sample1.mean()} \\nMedian = {np.median(rg_sample1)} \\nIQR = {stats.iqr(rg_sample1)} \\n\"\n",
        "ax[0].text(x=10000, y=250, s=(stats_sh_1 + stats_rg_1) , fontsize=12)\n",
        "\n",
        "# Scenario 2\n",
        "ax[1].hist(sh_sample2, color = 'red',bins=np.arange(np.min(sh_sample2), np.max(sh_sample2)+100, 200), label='sh_sample2', alpha=.9,  edgecolor='black')\n",
        "ax[1].hist(rg_sample2, color = 'blue', bins=np.arange(np.min(rg_sample2), np.max(rg_sample2)+100, 200), label='rg_sample2', alpha=.6,  edgecolor='black')\n",
        "ax[1].legend()\n",
        "ax[1].set_xlabel('rent')\n",
        "ax[1].set_ylabel('frequency')\n",
        "ax[1].set_title('Scenario 2')\n",
        "stats_sh_1 = f\"sh_sample2:\\nMean = {sh_sample2.mean()} \\nMedian = {np.median(sh_sample2)} \\nIQR = {stats.iqr(sh_sample2)} \\n\\n\"\n",
        "stats_rg_1 = f\"rg_sample2:\\nMean = {rg_sample2.mean()} \\nMedian = {np.median(rg_sample2)} \\nIQR = {stats.iqr(rg_sample2)} \\n\"\n",
        "ax[1].text(x=10000, y=250, s=(stats_sh_1 + stats_rg_1) , fontsize=12)\n",
        "plt.show()"
      ],
      "execution_count": 12,
      "outputs": [
        {
          "output_type": "display_data",
          "data": {
            "image/png": "[encoded data removed]",
            "text/plain": [
              "<Figure size 1656x432 with 2 Axes>"
            ]
          },
          "metadata": {
            "tags": [],
            "needs_background": "light"
          }
        }
      ]
    },
    {
      "cell_type": "code",
      "metadata": {
        "id": "2t8Krihu03P_"
      },
      "source": [
        "# sample = np.array([1000] * 10 + [2000] * 10 + [3000] * 10 + [4000] * 3970 + [4600] * 4200 + [5000] * 10 + [7000] * 1900 + [8000] * 2020 + [9000] * 2670 + [10000] * 1200)\n",
        "# len(sample)\n",
        "# np.mean(sample)\n",
        "# print(\"len \",len(sample) )\n",
        "# print(\"mean \",np.mean(sample) )\n",
        "# print(\"med \",np.median(sample) )\n",
        "# print(\"IQR \",stats.iqr(sample) )\n",
        "# print()\n",
        "# pd.DataFrame(sample).hist(bins=10, \n",
        "#                           figsize=(9,9),\n",
        "#                           edgecolor=\"k\", linewidth=1)\n",
        "\n",
        "# sample = np.array([1000] * 8080 + [2000] * 10 + [3000] * 10 + [4000] * 10 + [4600] * 7200 + [5000] *10  + [7000] * 3900 + [8000] * 1270 + [9000] * 1500 + [10000] * 10)\n",
        "# len(sample)\n",
        "# np.mean(sample)\n",
        "# print(\"len \",len(sample) )\n",
        "# print(\"mean \",np.mean(sample) )\n",
        "# print(\"med \",np.median(sample) )\n",
        "# print(\"IQR \",stats.iqr(sample) )\n",
        "# pd.DataFrame(sample).hist(bins=10, \n",
        "#                           figsize=(9,9),\n",
        "#                           edgecolor=\"k\", linewidth=1)"
      ],
      "execution_count": 13,
      "outputs": []
    },
    {
      "cell_type": "markdown",
      "metadata": {
        "id": "alJTxxPwOsjn"
      },
      "source": [
        "#### 2.B\n",
        "Draw a histogram of a third scenario with the same properties. <br>\n",
        "In addition, in this scenario the rent in SH should have a higher variance than the rent in RG."
      ]
    },
    {
      "cell_type": "code",
      "metadata": {
        "id": "M_VpteBkOsjo",
        "colab": {
          "base_uri": "https://localhost:8080/",
          "height": 111
        },
        "outputId": "f2f372f2-67a8-41fd-a6d6-a3694380c2cd"
      },
      "source": [
        "sh_sample3 = create_distrabution(sh_pop, sh_mean_rent, median_rent, 12000, median_rent//6)\n",
        "rg_sample3 = create_distrabution(rg_pop, rg_mean_rent, median_rent, 12000, median_rent//2)\n",
        "pd2 = pd.DataFrame([{\"Population\":len(sh_sample3), \"Mean\":np.rint(np.mean(sh_sample3)),\"Median\":np.median(sh_sample3), \"IQR\":np.rint(stats.iqr(sh_sample3)), \"Variance\":np.rint(np.var(sh_sample3))},\n",
        "                      {\"Population\":len(rg_sample3), \"Mean\":np.rint(np.mean(rg_sample3)),\"Median\":np.median(rg_sample3), \"IQR\":np.rint(stats.iqr(rg_sample3)),\"Variance\":np.rint(np.var(rg_sample3))}], index=[\"SH\", \"RG\"])\n",
        "pd2"
      ],
      "execution_count": 14,
      "outputs": [
        {
          "output_type": "execute_result",
          "data": {
            "text/html": [
              "<div>\n",
              "<style scoped>\n",
              "    .dataframe tbody tr th:only-of-type {\n",
              "        vertical-align: middle;\n",
              "    }\n",
              "\n",
              "    .dataframe tbody tr th {\n",
              "        vertical-align: top;\n",
              "    }\n",
              "\n",
              "    .dataframe thead th {\n",
              "        text-align: right;\n",
              "    }\n",
              "</style>\n",
              "<table border=\"1\" class=\"dataframe\">\n",
              "  <thead>\n",
              "    <tr style=\"text-align: right;\">\n",
              "      <th></th>\n",
              "      <th>Population</th>\n",
              "      <th>Mean</th>\n",
              "      <th>Median</th>\n",
              "      <th>IQR</th>\n",
              "      <th>Variance</th>\n",
              "    </tr>\n",
              "  </thead>\n",
              "  <tbody>\n",
              "    <tr>\n",
              "      <th>SH</th>\n",
              "      <td>16000</td>\n",
              "      <td>6300.0</td>\n",
              "      <td>4600.0</td>\n",
              "      <td>2890.0</td>\n",
              "      <td>22747156.0</td>\n",
              "    </tr>\n",
              "    <tr>\n",
              "      <th>RG</th>\n",
              "      <td>22000</td>\n",
              "      <td>4200.0</td>\n",
              "      <td>4600.0</td>\n",
              "      <td>5356.0</td>\n",
              "      <td>17762917.0</td>\n",
              "    </tr>\n",
              "  </tbody>\n",
              "</table>\n",
              "</div>"
            ],
            "text/plain": [
              "    Population    Mean  Median     IQR    Variance\n",
              "SH       16000  6300.0  4600.0  2890.0  22747156.0\n",
              "RG       22000  4200.0  4600.0  5356.0  17762917.0"
            ]
          },
          "metadata": {
            "tags": []
          },
          "execution_count": 14
        }
      ]
    },
    {
      "cell_type": "code",
      "metadata": {
        "colab": {
          "base_uri": "https://localhost:8080/",
          "height": 404
        },
        "id": "tCO8waPMCqeN",
        "outputId": "51e7c7f5-7455-4211-c10a-738276c59933"
      },
      "source": [
        "fig, ax = plt.subplots(ncols=1, figsize=(23,6))\n",
        "# Scenario 1\n",
        "ax.hist(sh_sample3, color = 'red',bins=np.arange(np.min(sh_sample3), np.max(sh_sample3)+100, 200), label='sh_sample3', alpha=.9,  edgecolor='black')\n",
        "ax.hist(rg_sample3, color = 'blue', bins=np.arange(np.min(rg_sample3), np.max(rg_sample3)+100, 200), label='rg_sample3', alpha=.6,  edgecolor='black')\n",
        "ax.legend()\n",
        "ax.set_xlabel('rent')\n",
        "ax.set_ylabel('frequency')\n",
        "ax.set_title('Scenario 3')\n",
        "stats_sh_1 = f\"sh_sample3:\\nMean = {sh_sample3.mean()} \\nMedian = {np.median(sh_sample3)} \\nIQR = {stats.iqr(sh_sample3)} \\nVariance = {np.var(sh_sample3)} \\n\\n\"\n",
        "stats_rg_1 = f\"rg_sample3:\\nMean = {rg_sample3.mean()} \\nMedian = {np.median(rg_sample3)} \\nIQR = {stats.iqr(rg_sample3)} \\nVariance = {np.var(rg_sample3)} \\n\"\n",
        "ax.text(x=10000, y=250, s=(stats_sh_1 + stats_rg_1) , fontsize=12)\n",
        "plt.show()"
      ],
      "execution_count": 15,
      "outputs": [
        {
          "output_type": "display_data",
          "data": {
            "image/png": "[encoded data removed]",
            "text/plain": [
              "<Figure size 1656x432 with 1 Axes>"
            ]
          },
          "metadata": {
            "tags": [],
            "needs_background": "light"
          }
        }
      ]
    },
    {
      "cell_type": "markdown",
      "metadata": {
        "id": "UZ-dbA6eOsjr"
      },
      "source": [
        "The survey also examined the per household income (PHI) in these two places.<br>\n",
        "\n",
        "It found that:<br>\n",
        "* The mean of PHI in SH is 12500 and in RG is 8500.\n",
        "* The median is 12000 in SH and 8000 in RG.\n",
        "* The covariance of the rent and the PHI was observed to be as in the formula below with $\\alpha=97\\%$ and $\\alpha=89\\%$ in SH and in RG respectively.<br><br>\n",
        "$$Cov(rent, PHI) = \\alpha * \\sqrt{Var(rent)} * \\sqrt{Var(PHI)}$$\n",
        "\n",
        "#### 2.C\n",
        "Produce rent and PHI data for the two cities, that is consistent with these findings. The covariances in your data can deviate by up to 1% from the numbers given $\\alpha$."
      ]
    },
    {
      "cell_type": "code",
      "metadata": {
        "id": "81GshsoK6qZg"
      },
      "source": [
        "# Information from the question\n",
        "sh_PHI_mean,rg_PHI_mean = 12500,8500\n",
        "sh_PHI_median,rg_PHI_median = 12000,8000"
      ],
      "execution_count": 16,
      "outputs": []
    },
    {
      "cell_type": "code",
      "metadata": {
        "id": "-TWnirXDOsjs",
        "colab": {
          "base_uri": "https://localhost:8080/"
        },
        "outputId": "2c2a0ae7-292c-4fca-b137-11e8ea23b831"
      },
      "source": [
        "\n",
        "\n",
        "#sh_sample4 = create_distrabution(sh_pop, sh_mean_rent, median_rent, 8000, median_rent//2)\n",
        "sh_sample4 = create_distrabution(sh_pop, sh_mean_rent, median_rent, 6500, 1000, 2400)\n",
        "sh_PHI = create_distrabution(sh_pop, sh_PHI_mean, sh_PHI_median, 12700, 50,10000)\n",
        "\n",
        "cov_rent_PHI = np.cov(sh_sample4,sh_PHI, ddof=0)[1][0]\n",
        "\n",
        "print(\"sh sample varince: \",np.var(sh_sample4))\n",
        "print(\"sh PHI sample varince: \",np.var(sh_PHI))\n",
        "print(\"cov matrix: \", np.cov(sh_sample4,sh_PHI, ddof=0))\n",
        "print(\"cov: \",cov_rent_PHI)\n",
        "\n",
        "print(\"PHI mean: \",np.mean(sh_PHI))\n",
        "print(\"PHI median: \",np.median(sh_PHI))\n",
        "\n",
        "print((np.cov(sh_sample4,sh_PHI, ddof=0)[1][0])/(np.sqrt(np.var(sh_sample4))*np.sqrt(np.var(sh_PHI))))\n",
        "\n",
        "print(\"\\n\\n\\n\")\n",
        "rg_sample4 = create_distrabution(rg_pop, rg_mean_rent, median_rent, 10000, 1000, 0)\n",
        "rg_PHI = create_distrabution(rg_pop, rg_PHI_mean, rg_PHI_median, 10000, 1000,0)\n",
        "\n",
        "cov_rent_PHI = np.cov(rg_sample4,rg_PHI, ddof=0)[1][0]\n",
        "print(\"rg sample varince: \",np.var(rg_sample4))\n",
        "print(\"rg PHI sample varince: \",np.var(rg_PHI))\n",
        "print(\"cov matrix: \", np.cov(rg_sample4,rg_PHI, ddof=0))\n",
        "print(\"cov: \",cov_rent_PHI)\n",
        "\n",
        "print(\"PHI mean: \",np.mean(rg_PHI))\n",
        "print(\"PHI median: \",np.median(rg_PHI))\n",
        "\n",
        "print((np.cov(rg_sample4,rg_PHI, ddof=0)[1][0])/(np.sqrt(np.var(rg_sample4))*np.sqrt(np.var(rg_PHI))))"
      ],
      "execution_count": 17,
      "outputs": [
        {
          "output_type": "stream",
          "text": [
            "sh sample varince:  15601671.558563014\n",
            "sh PHI sample varince:  2426689.836339892\n",
            "cov matrix:  [[15601671.55856301  5963751.47896796]\n",
            " [ 5963751.47896796  2426689.83633989]]\n",
            "cov:  5963751.478967955\n",
            "PHI mean:  12500.166782742563\n",
            "PHI median:  12000.0\n",
            "0.9692299732736323\n",
            "\n",
            "\n",
            "\n",
            "\n",
            "rg sample varince:  9054072.518923884\n",
            "rg PHI sample varince:  16211454.758678583\n",
            "cov matrix:  [[ 9054072.51892388 10820095.62509793]\n",
            " [10820095.62509793 16211454.75867858]]\n",
            "cov:  10820095.625097932\n",
            "PHI mean:  8500.223863553705\n",
            "PHI median:  8000.0\n",
            "0.8930959507555545\n"
          ],
          "name": "stdout"
        }
      ]
    },
    {
      "cell_type": "markdown",
      "metadata": {
        "id": "QZ1hLA1wOsjv"
      },
      "source": [
        "#### 2.D\n",
        "Produce two heatmaps that describe these two bivariate joint distributions. Make sure you carefully consider the selected binning resolution."
      ]
    },
    {
      "cell_type": "code",
      "metadata": {
        "id": "FcXNPTD1Osjw"
      },
      "source": [
        ""
      ],
      "execution_count": 17,
      "outputs": []
    },
    {
      "cell_type": "markdown",
      "metadata": {
        "id": "xpfka0KCOsjy"
      },
      "source": [
        "### Question 3 - Covariance and independence"
      ]
    },
    {
      "cell_type": "markdown",
      "metadata": {
        "id": "mWQnOWcsOsjz"
      },
      "source": [
        "What is the variance of the sum X +Y + Z of three random variables in terms of the variances of X, Y and Z and the covariances between each pair of random variables? What happens if X,Y,Z are pairwise independent? If X,Y,Z are pairwise independent, are they necessarily collectively independent? Prove your answer."
      ]
    },
    {
      "cell_type": "markdown",
      "metadata": {
        "id": "tUKp8HO43BiF"
      },
      "source": [
        "We begin by solving for the variance of the sum:\n",
        "\n",
        "$$Var(X + Y + Z) = Var(X + Y ) + Var(Z) + 2 · Cov(X + Y, Z)= [Var(X) + Var(Y ) + 2 · Cov(X, Y )] + Var(Z) + 2 · E[(X + Y − µ_X − µ_Y )(Z − µ_Z)]$$\n",
        "\n",
        "We can expand out the last term in the previous line by using the definiton of Covariance:\n",
        "$$ E[(X + Y − µx − µY )(Z − µZ)] = E[(X − µx)(Z − µZ) + (Y − µY )(Z − µZ)]$$\n",
        "$$= Cov(X, Z) + Cov(Y, Z)$$\n",
        "\n",
        "Plugging back into our previous equation we have variance is:\n",
        "$$Var(X + Y + Z) = Var(X) + Var(Y ) + Var(Z) + 2Cov(X, Z) + 2Cov(Y, Z) + 2Cov(X, Z)$$\n",
        "\n",
        "If $X, Y, Z$ are all pairwise independent, then:\n",
        "$$ Cov(X, Z) = Cov(Y, Z) = Cov(X, Z) = 0$$ \n",
        "$$\\Rightarrow Var(X + Y + Z) = Var(X) + Var(Y ) + Var(Z)$$\n",
        "\n",
        "If $X,Y,Z$ are pairwise independant, this does not imply that they are collectively independent. <br>\n",
        "In order to show this, we would require a given example to show that, $$P(X \\cap Y) =P(X \\cap Z) = P(Z \\cap Y)$$ However,  $$P(X \\cap Y \\cap Z) \\neq P(X)\\cdot P(Y)\\cdot P(Z)$$ \n",
        "\n",
        "We will show an example:<br>\n",
        "We throw two dice. Let $A$ be the event “the sum of the points is 7”, $B$ the event “die #1\n",
        "came up 3”, and $C$ the event “die #2 came up 4”. <br>Now, $$P[A] = P[B] = P[C] = 1/6$$\n",
        "Also,\n",
        "$$P[A ∩ B] = P[A ∩ C] = P[B ∩ C] = 1/36$$\n",
        "so that all events are pairwise independent. However,\n",
        "$$P[A ∩ B ∩ C] = P[B ∩ C] = 1/36$$\n",
        "while,\n",
        "$$P[A]P[B]P[C] = 1/216$$\n",
        "so they are not independent as a triplet.\n",
        "First, note that, indeed, $$P[A ∩ B] = P[B ∩ C] = 1/36$$ since the fact that A and $B$ occurred is the same as\n",
        "the fact that $B$ and $C$ occurred."
      ]
    },
    {
      "cell_type": "markdown",
      "metadata": {
        "id": "Tq9yYq38Osj1"
      },
      "source": [
        "### Question 4 - Convolutions"
      ]
    },
    {
      "cell_type": "markdown",
      "metadata": {
        "id": "7vmSPnZEOsj2"
      },
      "source": [
        "#### 4.A\n",
        "Write a program, `Q = NFoldConv(P , n)`, that takes as input:\n",
        "* A distribution, P, of a random variable that takes finitely many integer values\n",
        "* An integer n\n",
        "\n",
        "and produces the distribution, Q, of the sum of n independent repeats of random variables, each of which has the distribution P."
      ]
    },
    {
      "cell_type": "code",
      "metadata": {
        "id": "JXhGj35tOsj2"
      },
      "source": [
        "def NFoldConv(P , n):\n",
        "  dist = P\n",
        "  for i in range(n-1):\n",
        "    dist = convolution2Dist(P,dist)\n",
        "  return dist\n",
        "\n",
        "def convolution2Dist(P1,P2):\n",
        "  len1 = len(P1[0])\n",
        "  len2 = len(P2[0])\n",
        "  newDist = np.zeros((2,len1 * len2)) ## creat array of size 2 dimantion, (2,P1[0].len * P2[0].len)\n",
        "  \n",
        "  for i in range(len1):\n",
        "    for j in range(len2):\n",
        "      newDist[0][j + (i * len2)] = P1[0][i]+P2[0][j] #set values on 0 until i*j\n",
        "      newDist[1][j + (i * len2)] = P1[1][i]*P2[1][j] #set probs on 0 until i*j\n",
        "  \n",
        "  ##for uniq values in newDist[0], conect them and sum the values of newDist[1] in the same insecis.\n",
        "  u, inv = np.unique(newDist[0], return_inverse=True)\n",
        "  sums = np.zeros(len(u), dtype=newDist[1].dtype)\n",
        "  np.add.at(sums, inv, newDist[1])  \n",
        "  return  np.array([u,sums])"
      ],
      "execution_count": 18,
      "outputs": []
    },
    {
      "cell_type": "markdown",
      "metadata": {
        "id": "s6I5pEFQOsj4"
      },
      "source": [
        "#### 4.B\n",
        "Compute the distribution of the sum of the results of rolling a fair octahedron 17 times.\n",
        "\n",
        "<img src=\"https://upload.wikimedia.org/wikipedia/commons/2/27/Octahedron.jpg\" width=\"200\">\n"
      ]
    },
    {
      "cell_type": "code",
      "metadata": {
        "colab": {
          "base_uri": "https://localhost:8080/",
          "height": 374
        },
        "id": "9MOIA4vR0WKN",
        "outputId": "668a10dd-2f46-4d4c-be5f-93e7c7245dcd"
      },
      "source": [
        "P = np.array([[1,2,3,4,5,6,7,8],[1/8, 1/8, 1/8, 1/8, 1/8, 1/8, 1/8, 1/8]])\n",
        "n = 17\n",
        "dist = NFoldConv(P=P,n=n)\n",
        "X = dist[0]\n",
        "Y = dist[1]\n",
        "fig, ax = plt.subplots(ncols=1, figsize=(23,6))\n",
        "# print diagram when convDist[0] is x and convDist[1] is y\n",
        "ax.bar(X,Y)\n",
        "# for i in range(len(Y)):\n",
        "#   plt.hlines(Y[i],0,X[i])\n",
        "plt.show()\n",
        "\n",
        "\n"
      ],
      "execution_count": 20,
      "outputs": [
        {
          "output_type": "display_data",
          "data": {
            "image/png": "[encoded data removed]",
            "text/plain": [
              "<Figure size 1656x432 with 1 Axes>"
            ]
          },
          "metadata": {
            "tags": [],
            "needs_background": "light"
          }
        }
      ]
    },
    {
      "cell_type": "code",
      "metadata": {
        "id": "Ryy6QWVGOsj5"
      },
      "source": [
        ""
      ],
      "execution_count": null,
      "outputs": []
    },
    {
      "cell_type": "markdown",
      "metadata": {
        "id": "-B40CNHhOsj7"
      },
      "source": [
        "#### 4.C\n",
        "Assume that the price of a stock changes in any given day according to (in NIS):\n",
        "\n",
        "$$P=\\begin{pmatrix}\n",
        "-1 & 0 & 1 & 2 & 3 \\\\\n",
        "0.3 & 0.15 & 0.15 & 0.15 & 0.25\n",
        "\\end{pmatrix}$$\n",
        "\n",
        "1. What is the distribution of the change in stock after 2 consecutive days of (independent) changes? After 5 consecutive days? "
      ]
    },
    {
      "cell_type": "code",
      "metadata": {
        "id": "dZt5wlOwOsj8",
        "colab": {
          "base_uri": "https://localhost:8080/",
          "height": 374
        },
        "outputId": "73140470-5769-4728-bb6f-30011428702c"
      },
      "source": [
        "P = [[-1,0,1,2,3],[0.3, 0.15, 0.15, 0.15, 0.25]]\n",
        "dist = NFoldConv(P=P,n=5)\n",
        "\n",
        "X = dist[0]\n",
        "Y = dist[1]\n",
        "\n",
        "# plot diagram when convDist[0] is x and convDist[1] is y\n",
        "fig, ax = plt.subplots(ncols=1, figsize=(23,6))\n",
        "ax.bar(X,Y)\n",
        "# for i in range(len(Y)):\n",
        "#   plt.hlines(Y[i],0,X[i])\n",
        "plt.show()\n"
      ],
      "execution_count": 21,
      "outputs": [
        {
          "output_type": "display_data",
          "data": {
            "image/png": "[encoded data removed]",
            "text/plain": [
              "<Figure size 1656x432 with 1 Axes>"
            ]
          },
          "metadata": {
            "tags": [],
            "needs_background": "light"
          }
        }
      ]
    },
    {
      "cell_type": "markdown",
      "metadata": {
        "id": "eOVaDZpNOsj-"
      },
      "source": [
        "2. What is the probability that the stock has gained strictly more than 7NIS after 5 days? Has lost strictly more than 4NIS? Explain your answers."
      ]
    },
    {
      "cell_type": "code",
      "metadata": {
        "id": "hY7wcG-YOsj-"
      },
      "source": [
        ""
      ],
      "execution_count": null,
      "outputs": []
    }
  ]
}