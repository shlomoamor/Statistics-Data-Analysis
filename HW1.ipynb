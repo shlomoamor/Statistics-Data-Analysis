{
  "nbformat": 4,
  "nbformat_minor": 0,
  "metadata": {
    "kernelspec": {
      "display_name": "Python 3",
      "language": "python",
      "name": "python3"
    },
    "language_info": {
      "codemirror_mode": {
        "name": "ipython",
        "version": 3
      },
      "file_extension": ".py",
      "mimetype": "text/x-python",
      "name": "python",
      "nbconvert_exporter": "python",
      "pygments_lexer": "ipython3",
      "version": "3.7.6"
    },
    "colab": {
      "name": "HW1 5.12.ipynb",
      "provenance": [],
      "collapsed_sections": []
    }
  },
  "cells": [
    {
      "cell_type": "markdown",
      "metadata": {
        "id": "HHXG8dAYOsiq"
      },
      "source": [
        "### IDs:\n",
        "Insert yours IDs to the cell below"
      ]
    },
    {
      "cell_type": "markdown",
      "metadata": {
        "id": "eR8xBuu6Osiy"
      },
      "source": [
        " **ID #1: 311149082**\n",
        "\n",
        "**ID #2: 000803254**\n"
      ]
    },
    {
      "cell_type": "markdown",
      "metadata": {
        "id": "_NXCK36tOsi3"
      },
      "source": [
        "## Read the following instructions carefully:\n",
        "\n",
        "1. This jupyter notebook contains all the step by step instructions needed for this exercise.\n",
        "1. You are free to add cells.\n",
        "1. Write your functions and your answers in this jupyter notebook only.\n",
        "1. Answers to theoretical questions should be written in **markdown cells (with $\\LaTeX$ support)**.\n",
        "1. Submit this jupyter notebook only using your ID as a filename. Not to use ZIP or RAR. For example, your Moodle submission file name should look like this (two id numbers): `123456789_987654321.ipynb`."
      ]
    },
    {
      "cell_type": "code",
      "metadata": {
        "id": "hUdB7bVmS2SZ"
      },
      "source": [
        "from scipy import stats\n",
        "import pandas as pd\n",
        "import numpy as np\n",
        "import matplotlib.pyplot as plt\n",
        "%matplotlib inline\n",
        "plt.rcParams['figure.figsize'] = (10.0,5.0) # set default size of plots"
      ],
      "execution_count": null,
      "outputs": []
    },
    {
      "cell_type": "markdown",
      "metadata": {
        "id": "UmEqVj8ROsi6"
      },
      "source": [
        "### **Question 1 - Defective products**"
      ]
    },
    {
      "cell_type": "markdown",
      "metadata": {
        "id": "WGRNhYpLOsi-"
      },
      "source": [
        "In a manufacturing pipeline products are 3% defective. We are interested in examining a defective product to see what goes wrong on the belt. We need to ask the facility manager to send us a set of independent samples for examination."
      ]
    },
    {
      "cell_type": "markdown",
      "metadata": {
        "id": "s8kXUgUnOsjA"
      },
      "source": [
        "#### 1.A\n",
        "\n",
        "How many independent samples should we ask for in order to have a 85% probability of having at least one defective product in the batch sent? You should write a function."
      ]
    },
    {
      "cell_type": "markdown",
      "metadata": {
        "id": "C6na-9bta37t"
      },
      "source": [
        "We begin by defining the random variable $X$.<br> <br> \n",
        "$X$ ~ $Binom(n, p)$ where $p=0.03$. This means that $X$ is the number of successes (how many defective product) given n attempts.\n",
        "<br>\n",
        "In general,\n",
        "$$P(X \\ge k)=1-P(X<k)=1-P(X \\leq k-1) = p_{goal}$$\n",
        "We want to find a value for $n$ such that we have that: $$P(X\\ge1) = 0.85$$"
      ]
    },
    {
      "cell_type": "code",
      "metadata": {
        "id": "aZ9TbKY_OsjB"
      },
      "source": [
        "# This function runs many simulations until we find the right n-value\n",
        "# Input: p, k and threshold.\n",
        "# Output: n and all the calculated probabilities \n",
        "def find_n(prob_defective, threshold, k_defective):\n",
        "  res = []\n",
        "  for n in range(0, 1000):\n",
        "    distrabution = 1 - stats.binom.cdf(k=k_defective-1, n=n, p=prob_defective)\n",
        "    res.append(distrabution)\n",
        "    if np.isclose(distrabution, threshold, rtol=.005):\n",
        "      return n, res\n",
        "  "
      ],
      "execution_count": null,
      "outputs": []
    },
    {
      "cell_type": "code",
      "metadata": {
        "id": "qzYtlLUSiM39"
      },
      "source": [
        "# This function plots the probabilities calculated in the find_n function\n",
        "# Input: probability_array, k and threshold.\n",
        "def plot_probs(results, threshold, k_defective):\n",
        "  plt.plot(np.arange(0, len(results)),results,  color='b', label=\"Probabilities\")\n",
        "  plt.axhline( y=threshold,color='r',linestyle=\"dashed\", alpha = 0.5)\n",
        "  plt.axvline( x=len(results)-1,color='b',linestyle=\"dashed\", alpha = 0.5)\n",
        "  plt.ylim([0,1.0])\n",
        "  plt.xlabel(\"Number of products\")\n",
        "  plt.ylabel((\"Probability of \" + str(k_defective) + \" defective products\"))\n",
        "  plt.legend()\n",
        "  plt.show()"
      ],
      "execution_count": null,
      "outputs": []
    },
    {
      "cell_type": "code",
      "metadata": {
        "id": "7IxfvDvDipaz",
        "outputId": "af55e3ae-0db2-4fb1-a924-0073db4e4213",
        "colab": {
          "base_uri": "https://localhost:8080/",
          "height": 372
        }
      },
      "source": [
        "prob_defective, threshold, k_defective = 0.03,0.85,1\n",
        "n_val, res = find_n(prob_defective, threshold, k_defective)\n",
        "plot_probs(res,threshold, k_defective)\n",
        "print(\"\\nWe found that the value for n is:\", n_val)"
      ],
      "execution_count": null,
      "outputs": [
        {
          "output_type": "display_data",
          "data": {
            "image/png": "[encoded data removed]",
            "text/plain": [
              "<Figure size 720x360 with 1 Axes>"
            ]
          },
          "metadata": {
            "tags": [],
            "needs_background": "light"
          }
        },
        {
          "output_type": "stream",
          "text": [
            "\n",
            "We found that the value for n is: 62\n"
          ],
          "name": "stdout"
        }
      ]
    },
    {
      "cell_type": "markdown",
      "metadata": {
        "id": "PZ78Q3ZQOsjN"
      },
      "source": [
        "#### 1.B\n",
        "Answer this part again with the following changes: products are 4% defective and we want a 95% probability of at least one defective product in the batch."
      ]
    },
    {
      "cell_type": "code",
      "metadata": {
        "id": "n4d0J6RHOsjP",
        "outputId": "402a8095-16e5-45e5-bedc-7d1bf7a8545b",
        "colab": {
          "base_uri": "https://localhost:8080/",
          "height": 372
        }
      },
      "source": [
        "prob_defective, threshold, k_defective = 0.04,0.95,1\n",
        "n_val, res = find_n(prob_defective, threshold, k_defective)\n",
        "plot_probs(res,threshold, k_defective)\n",
        "print(\"\\nWe found that the value for n is:\", n_val)"
      ],
      "execution_count": null,
      "outputs": [
        {
          "output_type": "display_data",
          "data": {
            "image/png": "[encoded data removed]",
            "text/plain": [
              "<Figure size 720x360 with 1 Axes>"
            ]
          },
          "metadata": {
            "tags": [],
            "needs_background": "light"
          }
        },
        {
          "output_type": "stream",
          "text": [
            "\n",
            "We found that the value for n is: 72\n"
          ],
          "name": "stdout"
        }
      ]
    },
    {
      "cell_type": "markdown",
      "metadata": {
        "id": "UUWaEH-fOsjX"
      },
      "source": [
        "#### 1.C \n",
        "\n",
        "Consider the following cases and calculate how many independent samples are required: \n",
        "\n",
        "1. Products are 10% defective and we want a 90% probability of at least 5 defective products in the batch.\n",
        "1. Products are 30% defective and we want a 90% probability of at least 15 defective products in the batch.\n",
        "\n",
        "Explain the difference between the two results. You should use mathematical reasoning based on the properties of distributions you saw in class and visualizations in your answer."
      ]
    },
    {
      "cell_type": "code",
      "metadata": {
        "id": "gLo3KbsNOsjY",
        "outputId": "6b0a5ba8-4399-4341-9587-9ead802093ea",
        "colab": {
          "base_uri": "https://localhost:8080/",
          "height": 372
        }
      },
      "source": [
        "prob_defective, threshold, k_defective = 0.10,0.9,5\n",
        "n_val, res = find_n(prob_defective, threshold, k_defective)\n",
        "plot_probs(res,threshold, k_defective)\n",
        "print(\"\\nWe found that the value for n is:\", n_val)"
      ],
      "execution_count": null,
      "outputs": [
        {
          "output_type": "display_data",
          "data": {
            "image/png": "[encoded data removed]",
            "text/plain": [
              "<Figure size 720x360 with 1 Axes>"
            ]
          },
          "metadata": {
            "tags": [],
            "needs_background": "light"
          }
        },
        {
          "output_type": "stream",
          "text": [
            "\n",
            "We found that the value for n is: 78\n"
          ],
          "name": "stdout"
        }
      ]
    },
    {
      "cell_type": "code",
      "metadata": {
        "id": "tImf4mfXkfpV",
        "outputId": "30528df2-b1c9-4f96-c491-87aae89bf254",
        "colab": {
          "base_uri": "https://localhost:8080/",
          "height": 372
        }
      },
      "source": [
        "prob_defective, threshold, k_defective = 0.30,0.9,15\n",
        "n_val, res = find_n(prob_defective, threshold, k_defective)\n",
        "plot_probs(res,threshold, k_defective)\n",
        "print(\"\\nWe found that the value for n is:\", n_val)"
      ],
      "execution_count": null,
      "outputs": [
        {
          "output_type": "display_data",
          "data": {
            "image/png": "[encoded data removed]",
            "text/plain": [
              "<Figure size 720x360 with 1 Axes>"
            ]
          },
          "metadata": {
            "tags": [],
            "needs_background": "light"
          }
        },
        {
          "output_type": "stream",
          "text": [
            "\n",
            "We found that the value for n is: 64\n"
          ],
          "name": "stdout"
        }
      ]
    },
    {
      "cell_type": "markdown",
      "metadata": {
        "id": "g_nrEEmdsb-h"
      },
      "source": [
        "From the first example we get: $$ 1-P(X\\leq l-1) =1-\\sum_{k=1}^{l-1}\\binom{n}{k} p^k(1-p)^{n-k}=1-\\sum_{k=1}^{4}\\binom{n}{k} 0.1^k(0.9)^{n-k}=0.9 $$\n",
        "$$\\sum_{k=1}^{4}\\binom{n}{k} 0.1^k(0.9)^{n-k}=0.1$$\n",
        " \n",
        "From the second example we get:\n",
        "$$1-P(X\\leq l-1) =1-\\sum_{k=1}^{l-1}\\binom{n}{k} p^k(1-p)^{n-k}=1-\\sum_{k=1}^{14}\\binom{n}{k} 0.3^k(0.7)^{n-k}=0.9$$\n",
        "\n",
        "$$\\sum_{k=1}^{14}\\binom{n}{k} 0.3^k(0.7)^{n-k}=0.1 $$\n",
        "\n",
        "We can see from the results we expect to see a smaller value for $n$ than for the first one since, the change in the probabilty value $p$ has a great influence in the factor of the $k$ value (goal number) of defective products. <br>Since we have that the second example is 3 times the size of the first example then, when we enlarge $p$ by 3 there would be much less samples required in order to find the amount of defective products."
      ]
    },
    {
      "cell_type": "markdown",
      "metadata": {
        "id": "JmACTVnBOsjf"
      },
      "source": [
        "### Question 2 - Rent distributions in Randomistan"
      ]
    },
    {
      "cell_type": "markdown",
      "metadata": {
        "id": "Zjz9kG3gOsjg"
      },
      "source": [
        "The state of Randomistan conducted a survey to study the distribution of rent paid in two neighboring towns, Stochastic Heights and Random Grove, to be denoted SH and RG.<br> \n",
        "\n",
        "Here are some findings of the survey:\n",
        "* The population of SH and RG is 16,000 and 22,000 respectively. <br>\n",
        "* The mean rent in SH and RG is 6300RCU and 4200RCU respectively.\n",
        "* The median rent is 4600RCU in both towns.\n",
        "* The IQR of the rent is smaller in SH than in RG.\n",
        "\n",
        "All data generated in this question needs to be consistent with these findings."
      ]
    },
    {
      "cell_type": "markdown",
      "metadata": {
        "id": "TxI7GXrjOsjh"
      },
      "source": [
        "#### 2.A\n",
        "Draw histograms that describe 2 different scenarii of possible distributions of rent in the two towns.\u000bYour histograms should:<br>\n",
        "* Use bins of 100RCU each.\n",
        "* Have at least 10 non zero bins."
      ]
    },
    {
      "cell_type": "code",
      "metadata": {
        "id": "f7f_6NX7Osji"
      },
      "source": [
        ""
      ],
      "execution_count": null,
      "outputs": []
    },
    {
      "cell_type": "markdown",
      "metadata": {
        "id": "alJTxxPwOsjn"
      },
      "source": [
        "#### 2.B\n",
        "Draw a histogram of a third scenario with the same properties. <br>\n",
        "In addition, in this scenario the rent in SH should have a higher variance than the rent in RG."
      ]
    },
    {
      "cell_type": "code",
      "metadata": {
        "id": "M_VpteBkOsjo"
      },
      "source": [
        ""
      ],
      "execution_count": null,
      "outputs": []
    },
    {
      "cell_type": "markdown",
      "metadata": {
        "id": "UZ-dbA6eOsjr"
      },
      "source": [
        "The survey also examined the per household income (PHI) in these two places.<br>\n",
        "\n",
        "It found that:<br>\n",
        "* The mean of PHI in SH is 12500 and in RG is 8500.\n",
        "* The median is 12000 in SH and 8000 in RG.\n",
        "* The covariance of the rent and the PHI was observed to be as in the formula below with $\\alpha=97\\%$ and $\\alpha=89\\%$ in SH and in RG respectively.<br><br>\n",
        "$$Cov(rent, PHI) = \\alpha * \\sqrt{Var(rent)} * \\sqrt{Var(PHI)}$$\n",
        "\n",
        "#### 2.C\n",
        "Produce rent and PHI data for the two cities, that is consistent with these findings. The covariances in your data can deviate by up to 1% from the numbers given $\\alpha$."
      ]
    },
    {
      "cell_type": "code",
      "metadata": {
        "id": "-TWnirXDOsjs"
      },
      "source": [
        ""
      ],
      "execution_count": null,
      "outputs": []
    },
    {
      "cell_type": "markdown",
      "metadata": {
        "id": "QZ1hLA1wOsjv"
      },
      "source": [
        "#### 2.D\n",
        "Produce two heatmaps that describe these two bivariate joint distributions. Make sure you carefully consider the selected binning resolution."
      ]
    },
    {
      "cell_type": "code",
      "metadata": {
        "id": "FcXNPTD1Osjw"
      },
      "source": [
        ""
      ],
      "execution_count": null,
      "outputs": []
    },
    {
      "cell_type": "markdown",
      "metadata": {
        "id": "xpfka0KCOsjy"
      },
      "source": [
        "### Question 3 - Covariance and independence"
      ]
    },
    {
      "cell_type": "markdown",
      "metadata": {
        "id": "mWQnOWcsOsjz"
      },
      "source": [
        "What is the variance of the sum X +Y + Z of three random variables in terms of the variances of X, Y and Z and the covariances between each pair of random variables? What happens if X,Y,Z are pairwise independent? If X,Y,Z are pairwise independent, are they necessarily collectively independent? Prove your answer."
      ]
    },
    {
      "cell_type": "code",
      "metadata": {
        "id": "QCBM0sftOsjz"
      },
      "source": [
        ""
      ],
      "execution_count": null,
      "outputs": []
    },
    {
      "cell_type": "markdown",
      "metadata": {
        "id": "Tq9yYq38Osj1"
      },
      "source": [
        "### Question 4 - Convolutions"
      ]
    },
    {
      "cell_type": "markdown",
      "metadata": {
        "id": "7vmSPnZEOsj2"
      },
      "source": [
        "#### 4.A\n",
        "Write a program, `Q = NFoldConv(P , n)`, that takes as input:\n",
        "* A distribution, P, of a random variable that takes finitely many integer values\n",
        "* An integer n\n",
        "\n",
        "and produces the distribution, Q, of the sum of n independent repeats of random variables, each of which has the distribution P."
      ]
    },
    {
      "cell_type": "code",
      "metadata": {
        "id": "JXhGj35tOsj2"
      },
      "source": [
        ""
      ],
      "execution_count": null,
      "outputs": []
    },
    {
      "cell_type": "markdown",
      "metadata": {
        "id": "s6I5pEFQOsj4"
      },
      "source": [
        "#### 4.B\n",
        "Compute the distribution of the sum of the results of rolling a fair octahedron 17 times.\n",
        "\n",
        "<img src=\"https://upload.wikimedia.org/wikipedia/commons/2/27/Octahedron.jpg\" width=\"200\">\n"
      ]
    },
    {
      "cell_type": "code",
      "metadata": {
        "id": "Ryy6QWVGOsj5"
      },
      "source": [
        ""
      ],
      "execution_count": null,
      "outputs": []
    },
    {
      "cell_type": "markdown",
      "metadata": {
        "id": "-B40CNHhOsj7"
      },
      "source": [
        "#### 4.C\n",
        "Assume that the price of a stock changes in any given day according to (in NIS):\n",
        "\n",
        "$$P=\\begin{pmatrix}\n",
        "-1 & 0 & 1 & 2 & 3 \\\\\n",
        "0.3 & 0.15 & 0.15 & 0.15 & 0.25\n",
        "\\end{pmatrix}$$\n",
        "\n",
        "1. What is the distribution of the change in stock after 2 consecutive days of (independent) changes? After 5 consecutive days? "
      ]
    },
    {
      "cell_type": "code",
      "metadata": {
        "id": "dZt5wlOwOsj8"
      },
      "source": [
        ""
      ],
      "execution_count": null,
      "outputs": []
    },
    {
      "cell_type": "markdown",
      "metadata": {
        "id": "eOVaDZpNOsj-"
      },
      "source": [
        "2. What is the probability that the stock has gained strictly more than 7NIS after 5 days? Has lost strictly more than 4NIS? Explain your answers."
      ]
    },
    {
      "cell_type": "code",
      "metadata": {
        "id": "hY7wcG-YOsj-"
      },
      "source": [
        ""
      ],
      "execution_count": null,
      "outputs": []
    }
  ]
}