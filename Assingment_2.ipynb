{
  "nbformat": 4,
  "nbformat_minor": 0,
  "metadata": {
    "kernelspec": {
      "display_name": "Python 3",
      "language": "python",
      "name": "python3"
    },
    "language_info": {
      "codemirror_mode": {
        "name": "ipython",
        "version": 3
      },
      "file_extension": ".py",
      "mimetype": "text/x-python",
      "name": "python",
      "nbconvert_exporter": "python",
      "pygments_lexer": "ipython3",
      "version": "3.7.3"
    },
    "colab": {
      "name": "SnDA_2021_HW2_clean.ipynb",
      "provenance": [],
      "collapsed_sections": [
        "Mbo3NzRYArAa",
        "09-JU8wcArAa",
        "clLB3Dl1ArAa",
        "vi3BlBqAArAa",
        "KRWPUCXyArAb"
      ],
      "toc_visible": true
    }
  },
  "cells": [
    {
      "cell_type": "markdown",
      "metadata": {
        "id": "ht9MOB3rArAZ"
      },
      "source": [
        "### IDs:\n",
        "Insert yours IDs to the cell below"
      ]
    },
    {
      "cell_type": "markdown",
      "metadata": {
        "id": "a4XznS8OArAa"
      },
      "source": [
        "ID #1:311149082\n",
        "\n",
        "ID #2:000803254\n"
      ]
    },
    {
      "cell_type": "markdown",
      "metadata": {
        "id": "1z7N10qeArAa"
      },
      "source": [
        "## Read the following instructions carefully:\n",
        "\n",
        "1. This jupyter notebook contains all the step by step instructions needed for this exercise.\n",
        "1. You are free to add cells.\n",
        "1. Write your functions and your answers in this jupyter notebook only.\n",
        "1. Answers to theoretical questions should be written in **markdown cells (with $\\LaTeX$ support)**.\n",
        "1. Submit this jupyter notebook only using your ID as a filename. Not to use ZIP or RAR. For example, your Moodle submission file name should look like this (two id numbers): `123456789_987654321.ipynb`."
      ]
    },
    {
      "cell_type": "code",
      "metadata": {
        "id": "SHT5hkBTA4RO"
      },
      "source": [
        "from sklearn.datasets import load_boston\n",
        "from scipy import stats\n",
        "import pandas as pd\n",
        "import numpy as np\n",
        "import seaborn as sns\n",
        "sns.set_theme(color_codes=True)\n",
        "from numpy.polynomial.polynomial import polyfit\n",
        "from sklearn import mixture\n",
        "np.set_printoptions(threshold=np.inf)\n",
        "import matplotlib.pyplot as plt\n",
        "%matplotlib inline\n",
        "plt.rcParams['figure.figsize'] = (10.0,5.0) # set default size of plots\n",
        "import warnings\n",
        "warnings.filterwarnings('ignore')\n",
        "from google.colab import drive\n",
        "#drive.mount('/content/gdrive')"
      ],
      "execution_count": null,
      "outputs": []
    },
    {
      "cell_type": "markdown",
      "metadata": {
        "id": "Mbo3NzRYArAa"
      },
      "source": [
        "### Question 1 - Data exploration and visialization - practical"
      ]
    },
    {
      "cell_type": "markdown",
      "metadata": {
        "id": "fDgSJ58-ArAa"
      },
      "source": [
        "Load Boston dataset from sklearn.\n",
        "Explore the data. Follow the instructions below and make sure to support your answers with proper outputs and plots.\n",
        "When plotting, pay close attention to the range of the axis, and include axis labels and a title for the figure.\n",
        "\n",
        "1. describe the dataset. How many samples does it contain? How many features? What isis the data type for each variable?\n",
        "2. Produce a histogram and a boxplot of the nitric oxides concentration. describe the distribution.\n",
        "3. Produce a correlation matrix of all the features. Are there any correlated features? Can you identify one feature with unusual behaviour?\n",
        "4. Select the 2 pairs of features with the highest correlation (positive or negative) and plot 2 scatter plots with marginal histograms (JointPlot). \n",
        "5. Produce a cumulative histogram of the age variable and add two horizontal lines on the first and third quartile (on the cumulative count)\n",
        "6. Identify and report 2 “interesting” trends in the data. No need to provide statistical confidence at this point. "
      ]
    },
    {
      "cell_type": "markdown",
      "metadata": {
        "id": "vDbgdq3ec8ec"
      },
      "source": [
        "#### 1.1\r\n",
        "#### Describe the dataset. How many samples does it contain? How many features? What isis the data type for each variable?"
      ]
    },
    {
      "cell_type": "markdown",
      "metadata": {
        "id": "g_AC4qTVBFwW"
      },
      "source": [
        "We begin my loading the dataset from sklearn:"
      ]
    },
    {
      "cell_type": "code",
      "metadata": {
        "colab": {
          "base_uri": "https://localhost:8080/"
        },
        "id": "tRDbwUfeDNcn",
        "outputId": "f16f5b9b-5071-4177-d109-bc6bd51ca7c6"
      },
      "source": [
        "boston_data_dict = load_boston(return_X_y=False)\r\n",
        "print(boston_data_dict.keys())"
      ],
      "execution_count": null,
      "outputs": [
        {
          "output_type": "stream",
          "text": [
            "dict_keys(['data', 'target', 'feature_names', 'DESCR', 'filename'])\n"
          ],
          "name": "stdout"
        }
      ]
    },
    {
      "cell_type": "code",
      "metadata": {
        "colab": {
          "base_uri": "https://localhost:8080/"
        },
        "id": "1BnHjMr3BENi",
        "outputId": "386d453d-6c8a-4873-9ec6-24b9ae5578b2"
      },
      "source": [
        "# 1.1\n",
        "print(\"The amount of samples the data has is:\", boston_data_dict['data'].shape[0])\n",
        "print(\"The amount of features the data has is:\", boston_data_dict['data'].shape[1])\n",
        "print(\"The feature names and description are as follows:\\n\")\n",
        "print(boston_data_dict['DESCR'][262:1231])"
      ],
      "execution_count": null,
      "outputs": [
        {
          "output_type": "stream",
          "text": [
            "The amount of samples the data has is: 506\n",
            "The amount of features the data has is: 13\n",
            "The feature names and description are as follows:\n",
            "\n",
            "Attribute Information (in order):\n",
            "        - CRIM     per capita crime rate by town\n",
            "        - ZN       proportion of residential land zoned for lots over 25,000 sq.ft.\n",
            "        - INDUS    proportion of non-retail business acres per town\n",
            "        - CHAS     Charles River dummy variable (= 1 if tract bounds river; 0 otherwise)\n",
            "        - NOX      nitric oxides concentration (parts per 10 million)\n",
            "        - RM       average number of rooms per dwelling\n",
            "        - AGE      proportion of owner-occupied units built prior to 1940\n",
            "        - DIS      weighted distances to five Boston employment centres\n",
            "        - RAD      index of accessibility to radial highways\n",
            "        - TAX      full-value property-tax rate per $10,000\n",
            "        - PTRATIO  pupil-teacher ratio by town\n",
            "        - B        1000(Bk - 0.63)^2 where Bk is the proportion of blacks by town\n",
            "        - LSTAT    % lower status of the population\n",
            "        - MEDV     Median value of owner-occupied homes in $1000's\n",
            "\n",
            "   \n"
          ],
          "name": "stdout"
        }
      ]
    },
    {
      "cell_type": "code",
      "metadata": {
        "colab": {
          "base_uri": "https://localhost:8080/"
        },
        "id": "-6ArRor7JSex",
        "outputId": "b1aa2f07-bf80-4a22-bac9-dabe82d63bfd"
      },
      "source": [
        "# Converting the data to a pandas dataframe and printing the types\r\n",
        "boston_data = boston_data_dict['data']\r\n",
        "boston_features = boston_data_dict['feature_names']\r\n",
        "boston_df = pd.DataFrame(boston_data, columns=boston_features)\r\n",
        "print(\"The types of each features are as follows:\")\r\n",
        "print(boston_df.dtypes)"
      ],
      "execution_count": null,
      "outputs": [
        {
          "output_type": "stream",
          "text": [
            "The types of each features are as follows:\n",
            "CRIM       float64\n",
            "ZN         float64\n",
            "INDUS      float64\n",
            "CHAS       float64\n",
            "NOX        float64\n",
            "RM         float64\n",
            "AGE        float64\n",
            "DIS        float64\n",
            "RAD        float64\n",
            "TAX        float64\n",
            "PTRATIO    float64\n",
            "B          float64\n",
            "LSTAT      float64\n",
            "dtype: object\n"
          ],
          "name": "stdout"
        }
      ]
    },
    {
      "cell_type": "code",
      "metadata": {
        "colab": {
          "base_uri": "https://localhost:8080/",
          "height": 197
        },
        "id": "lhCIQtS2dSp5",
        "outputId": "5ea2f6b4-a469-44dc-edbe-2dc588ba3815"
      },
      "source": [
        "#Showing the data with the price\r\n",
        "boston_df_with_price = pd.concat( [boston_df, pd.Series(boston_data_dict['target'], name='PRICE') ], axis=1)\r\n",
        "boston_df_with_price.head(5)\r\n"
      ],
      "execution_count": null,
      "outputs": [
        {
          "output_type": "execute_result",
          "data": {
            "text/html": [
              "<div>\n",
              "<style scoped>\n",
              "    .dataframe tbody tr th:only-of-type {\n",
              "        vertical-align: middle;\n",
              "    }\n",
              "\n",
              "    .dataframe tbody tr th {\n",
              "        vertical-align: top;\n",
              "    }\n",
              "\n",
              "    .dataframe thead th {\n",
              "        text-align: right;\n",
              "    }\n",
              "</style>\n",
              "<table border=\"1\" class=\"dataframe\">\n",
              "  <thead>\n",
              "    <tr style=\"text-align: right;\">\n",
              "      <th></th>\n",
              "      <th>CRIM</th>\n",
              "      <th>ZN</th>\n",
              "      <th>INDUS</th>\n",
              "      <th>CHAS</th>\n",
              "      <th>NOX</th>\n",
              "      <th>RM</th>\n",
              "      <th>AGE</th>\n",
              "      <th>DIS</th>\n",
              "      <th>RAD</th>\n",
              "      <th>TAX</th>\n",
              "      <th>PTRATIO</th>\n",
              "      <th>B</th>\n",
              "      <th>LSTAT</th>\n",
              "      <th>PRICE</th>\n",
              "    </tr>\n",
              "  </thead>\n",
              "  <tbody>\n",
              "    <tr>\n",
              "      <th>0</th>\n",
              "      <td>0.00632</td>\n",
              "      <td>18.0</td>\n",
              "      <td>2.31</td>\n",
              "      <td>0.0</td>\n",
              "      <td>0.538</td>\n",
              "      <td>6.575</td>\n",
              "      <td>65.2</td>\n",
              "      <td>4.0900</td>\n",
              "      <td>1.0</td>\n",
              "      <td>296.0</td>\n",
              "      <td>15.3</td>\n",
              "      <td>396.90</td>\n",
              "      <td>4.98</td>\n",
              "      <td>24.0</td>\n",
              "    </tr>\n",
              "    <tr>\n",
              "      <th>1</th>\n",
              "      <td>0.02731</td>\n",
              "      <td>0.0</td>\n",
              "      <td>7.07</td>\n",
              "      <td>0.0</td>\n",
              "      <td>0.469</td>\n",
              "      <td>6.421</td>\n",
              "      <td>78.9</td>\n",
              "      <td>4.9671</td>\n",
              "      <td>2.0</td>\n",
              "      <td>242.0</td>\n",
              "      <td>17.8</td>\n",
              "      <td>396.90</td>\n",
              "      <td>9.14</td>\n",
              "      <td>21.6</td>\n",
              "    </tr>\n",
              "    <tr>\n",
              "      <th>2</th>\n",
              "      <td>0.02729</td>\n",
              "      <td>0.0</td>\n",
              "      <td>7.07</td>\n",
              "      <td>0.0</td>\n",
              "      <td>0.469</td>\n",
              "      <td>7.185</td>\n",
              "      <td>61.1</td>\n",
              "      <td>4.9671</td>\n",
              "      <td>2.0</td>\n",
              "      <td>242.0</td>\n",
              "      <td>17.8</td>\n",
              "      <td>392.83</td>\n",
              "      <td>4.03</td>\n",
              "      <td>34.7</td>\n",
              "    </tr>\n",
              "    <tr>\n",
              "      <th>3</th>\n",
              "      <td>0.03237</td>\n",
              "      <td>0.0</td>\n",
              "      <td>2.18</td>\n",
              "      <td>0.0</td>\n",
              "      <td>0.458</td>\n",
              "      <td>6.998</td>\n",
              "      <td>45.8</td>\n",
              "      <td>6.0622</td>\n",
              "      <td>3.0</td>\n",
              "      <td>222.0</td>\n",
              "      <td>18.7</td>\n",
              "      <td>394.63</td>\n",
              "      <td>2.94</td>\n",
              "      <td>33.4</td>\n",
              "    </tr>\n",
              "    <tr>\n",
              "      <th>4</th>\n",
              "      <td>0.06905</td>\n",
              "      <td>0.0</td>\n",
              "      <td>2.18</td>\n",
              "      <td>0.0</td>\n",
              "      <td>0.458</td>\n",
              "      <td>7.147</td>\n",
              "      <td>54.2</td>\n",
              "      <td>6.0622</td>\n",
              "      <td>3.0</td>\n",
              "      <td>222.0</td>\n",
              "      <td>18.7</td>\n",
              "      <td>396.90</td>\n",
              "      <td>5.33</td>\n",
              "      <td>36.2</td>\n",
              "    </tr>\n",
              "  </tbody>\n",
              "</table>\n",
              "</div>"
            ],
            "text/plain": [
              "      CRIM    ZN  INDUS  CHAS    NOX  ...    TAX  PTRATIO       B  LSTAT  PRICE\n",
              "0  0.00632  18.0   2.31   0.0  0.538  ...  296.0     15.3  396.90   4.98   24.0\n",
              "1  0.02731   0.0   7.07   0.0  0.469  ...  242.0     17.8  396.90   9.14   21.6\n",
              "2  0.02729   0.0   7.07   0.0  0.469  ...  242.0     17.8  392.83   4.03   34.7\n",
              "3  0.03237   0.0   2.18   0.0  0.458  ...  222.0     18.7  394.63   2.94   33.4\n",
              "4  0.06905   0.0   2.18   0.0  0.458  ...  222.0     18.7  396.90   5.33   36.2\n",
              "\n",
              "[5 rows x 14 columns]"
            ]
          },
          "metadata": {
            "tags": []
          },
          "execution_count": 5
        }
      ]
    },
    {
      "cell_type": "markdown",
      "metadata": {
        "id": "IOqHNxbedgHe"
      },
      "source": [
        "#### 1.2\r\n",
        "#### Produce a histogram and a boxplot of the nitric oxides concentration. describe the distribution."
      ]
    },
    {
      "cell_type": "code",
      "metadata": {
        "colab": {
          "base_uri": "https://localhost:8080/",
          "height": 441
        },
        "id": "N9Sqs885E_SU",
        "outputId": "a86f910e-2b1f-4113-d420-e961bdd2532b"
      },
      "source": [
        "# Select only the NOX column from the dataframe\r\n",
        "NOX_data = boston_data_dict['data'][:,4]\r\n",
        "\r\n",
        "fig, axs = plt.subplots(1, 2,figsize=(15, 6),sharey=False, tight_layout=True)\r\n",
        "# Plot the histogram \r\n",
        "sns.distplot(NOX_data, ax=axs[0], bins=20)\r\n",
        "axs[0].set_title('NOX Histogram', fontdict={'fontsize': 15})\r\n",
        "axs[0].set_xlabel(\"Nitric oxides concentration (parts per 10 million)\")\r\n",
        "\r\n",
        "# Plot the Box plot\r\n",
        "sns.boxplot(data=NOX_data, ax=axs[1], orient='h', whis=0.5);\r\n",
        "axs[1].set_title('NOX Boxplot', fontdict={'fontsize': 15})\r\n",
        "axs[1].set_xlabel(\"Nitric oxides concentration (parts per 10 million)\")\r\n",
        "axs[1].set_ylabel(\"Data range\") #check\r\n",
        "plt.show()"
      ],
      "execution_count": null,
      "outputs": [
        {
          "output_type": "display_data",
          "data": {
            "image/png": "[encoded data removed]",
            "text/plain": [
              "<Figure size 1080x432 with 2 Axes>"
            ]
          },
          "metadata": {
            "tags": [],
            "needs_background": "light"
          }
        }
      ]
    },
    {
      "cell_type": "markdown",
      "metadata": {
        "id": "Hzy3OR4cf6kp"
      },
      "source": [
        "As we can see from the histogram the distribution has a normal like shape. It is quite clear from the data the Nitric oxide concentration parts per 10 million lies in the range of $0.4-0.9$ with a higher concentration in the range $0.4-0.55$"
      ]
    },
    {
      "cell_type": "markdown",
      "metadata": {
        "id": "vHBzjsr7gQ9E"
      },
      "source": [
        "#### 1.3\r\n",
        "#### Produce a correlation matrix of all the features. Are there any correlated features? Can you identify one feature with unusual behaviour?"
      ]
    },
    {
      "cell_type": "code",
      "metadata": {
        "colab": {
          "base_uri": "https://localhost:8080/"
        },
        "id": "_Cy_5iZEgVsG",
        "outputId": "25812430-b882-44e2-838b-6b2dc13e631a"
      },
      "source": [
        "## Correlation matrix\r\n",
        "corr_matrix = np.array(boston_df.corr())\r\n",
        "corr_matrix[:2]"
      ],
      "execution_count": null,
      "outputs": [
        {
          "output_type": "execute_result",
          "data": {
            "text/plain": [
              "array([[ 1.        , -0.20046922,  0.40658341, -0.05589158,  0.42097171,\n",
              "        -0.2192467 ,  0.35273425, -0.37967009,  0.62550515,  0.58276431,\n",
              "         0.28994558, -0.38506394,  0.45562148],\n",
              "       [-0.20046922,  1.        , -0.53382819, -0.04269672, -0.51660371,\n",
              "         0.31199059, -0.56953734,  0.66440822, -0.31194783, -0.31456332,\n",
              "        -0.39167855,  0.17552032, -0.41299457]])"
            ]
          },
          "metadata": {
            "tags": []
          },
          "execution_count": 7
        }
      ]
    },
    {
      "cell_type": "code",
      "metadata": {
        "colab": {
          "base_uri": "https://localhost:8080/",
          "height": 488
        },
        "id": "ueEtgELQhBy9",
        "outputId": "2d5c8337-6be3-46b4-c507-ab98c72e03d7"
      },
      "source": [
        "# Correlation heatmap\r\n",
        "sns.set(rc={'figure.figsize':(14,8)})\r\n",
        "sns.heatmap(boston_df.corr(), cmap='RdYlBu', annot=True);"
      ],
      "execution_count": null,
      "outputs": [
        {
          "output_type": "display_data",
          "data": {
            "image/png": "[encoded data removed]",
            "text/plain": [
              "<Figure size 1008x576 with 2 Axes>"
            ]
          },
          "metadata": {
            "tags": []
          }
        }
      ]
    },
    {
      "cell_type": "code",
      "metadata": {
        "colab": {
          "base_uri": "https://localhost:8080/"
        },
        "id": "YR7x1jbaVzRN",
        "outputId": "8d4d4773-c67f-4787-d461-3b954b4dc2a3"
      },
      "source": [
        "# We find the correlated feature \r\n",
        "max_corr = np.absolute(np.triu(corr_matrix, k=1)).max()\r\n",
        "max_corr_indices = np.where(np.absolute(np.triu(corr_matrix, k=1)) == max_corr)\r\n",
        "print(boston_df.columns[max_corr_indices[0][0]], \"and\", boston_df.columns[max_corr_indices[1][0]], \"are the most corelated atributes with maximal corelation of: \", max_corr)"
      ],
      "execution_count": null,
      "outputs": [
        {
          "output_type": "stream",
          "text": [
            "RAD and TAX are the most corelated atributes with maximal corelation of:  0.9102281885331822\n"
          ],
          "name": "stdout"
        }
      ]
    },
    {
      "cell_type": "markdown",
      "metadata": {
        "id": "Reh7jcdfhdsw"
      },
      "source": [
        "We have found that the two most correlated pairs are: $$ \\rho(RAD, TAX) =  0.91$$\r\n",
        "\r\n",
        "This is quiter a strong positive correlation and it is unusual or rather unexpected to see that $RAD$ (index of accessibility to radial highways) is strongly positivly correlated with $TAX$ ( full-value property-tax rate per \\$10,000).\r\n",
        "\r\n",
        "We can possibly suggest a justification for this as, the more accessable radial highways are the higher the chance you live in a city where we would find higher property tax.\r\n",
        "\r\n",
        "The unusual feature could be the $CHAS$ feature. As we can see from the heatmap, it is very much uncorrelated with all the other features.\r\n",
        "   "
      ]
    },
    {
      "cell_type": "markdown",
      "metadata": {
        "id": "4UAAhPj6jgsn"
      },
      "source": [
        "#### 1.4\r\n",
        "#### Select the 2 pairs of features with the highest correlation (positive or negative) and plot 2 scatter plots with marginal histograms (JointPlot)."
      ]
    },
    {
      "cell_type": "code",
      "metadata": {
        "id": "nF8B1m17lwVH"
      },
      "source": [
        "#find the maximum values index for each row.\r\n",
        "max_index_list = np.argmax(np.absolute(np.triu(corr_matrix, k=1)), axis=1)\r\n",
        "#create nparray that holds the values index and the value itself\r\n",
        "pairwise_corr = np.array(list(zip(boston_df.columns[np.arange(len(max_index_list))], \r\n",
        "                                  boston_df.columns[max_index_list], \r\n",
        "                                  np.absolute(np.triu(corr_matrix, k=1))[np.arange(13), max_index_list])))\r\n",
        "#sorts them from smallest to biggest\r\n",
        "pairwise_corr_sorted = pairwise_corr[pairwise_corr[:,2].argsort()]"
      ],
      "execution_count": null,
      "outputs": []
    },
    {
      "cell_type": "code",
      "metadata": {
        "colab": {
          "base_uri": "https://localhost:8080/"
        },
        "id": "vsnI5j81m0pN",
        "outputId": "86c068d9-7ac1-4794-9c72-4ea3126881f0"
      },
      "source": [
        "corr_pair1 = pairwise_corr_sorted[len(pairwise_corr_sorted)-1]\r\n",
        "corr_pair2 = pairwise_corr_sorted[len(pairwise_corr_sorted)-2]\r\n",
        "corr_pair1, corr_pair2"
      ],
      "execution_count": null,
      "outputs": [
        {
          "output_type": "execute_result",
          "data": {
            "text/plain": [
              "(array(['RAD', 'TAX', '0.9102281885331822'], dtype='<U18'),\n",
              " array(['NOX', 'DIS', '0.7692301132258261'], dtype='<U18'))"
            ]
          },
          "metadata": {
            "tags": []
          },
          "execution_count": 11
        }
      ]
    },
    {
      "cell_type": "code",
      "metadata": {
        "colab": {
          "base_uri": "https://localhost:8080/",
          "height": 450
        },
        "id": "qYT-DdMVbKkv",
        "outputId": "fab62774-d41d-41f2-c4ac-006aad54f5d9"
      },
      "source": [
        "# Most correlated features\r\n",
        "sns.jointplot(x=corr_pair1[0], y=corr_pair1[1], kind=\"reg\", data=boston_df, marginal_kws=dict(bins=10))\r\n",
        "plt.suptitle('Most correlated feaures', fontsize=17, x=0.5, y=1)\r\n",
        "plt.show()"
      ],
      "execution_count": null,
      "outputs": [
        {
          "output_type": "display_data",
          "data": {
            "image/png": "[encoded data removed]",
            "text/plain": [
              "<Figure size 432x432 with 3 Axes>"
            ]
          },
          "metadata": {
            "tags": []
          }
        }
      ]
    },
    {
      "cell_type": "code",
      "metadata": {
        "colab": {
          "base_uri": "https://localhost:8080/",
          "height": 450
        },
        "id": "xBNY_Noe43-S",
        "outputId": "edfed3c9-e15e-4c9e-e049-ebd94100b75e"
      },
      "source": [
        "# Second most correlated features\r\n",
        "sns.jointplot(x=corr_pair2[0], y=corr_pair2[1], kind=\"reg\", data=boston_df, marginal_kws=dict(bins=10), color=\"green\")\r\n",
        "plt.suptitle('Second-most correlated feaures', fontsize=17, x=0.5, y=1)\r\n",
        "plt.show()"
      ],
      "execution_count": null,
      "outputs": [
        {
          "output_type": "display_data",
          "data": {
            "image/png": "[encoded data removed]",
            "text/plain": [
              "<Figure size 432x432 with 3 Axes>"
            ]
          },
          "metadata": {
            "tags": []
          }
        }
      ]
    },
    {
      "cell_type": "markdown",
      "metadata": {
        "id": "3I4LyCmzpHwR"
      },
      "source": [
        "#### 1.5 \r\n",
        "#### Produce a cumulative histogram of the age variable and add two horizontal lines on the first and third quartile (on the cumulative count)\r\n"
      ]
    },
    {
      "cell_type": "code",
      "metadata": {
        "colab": {
          "base_uri": "https://localhost:8080/",
          "height": 531
        },
        "id": "1X4oJXBU54pr",
        "outputId": "73599b00-ca35-4718-ff56-0799d47a17c7"
      },
      "source": [
        "# We can plot cumulative plots using sns\r\n",
        "sns.distplot(boston_df['AGE'], kde=False, bins = 25, hist_kws=dict(cumulative=True), color=\"red\")\r\n",
        "# We need to add the quartile lines\r\n",
        "plt.axvline(np.quantile(boston_df['AGE'], 0.25), color=\"blue\", alpha=0.9, label=\"0.25 quartile\")\r\n",
        "plt.axvline(np.quantile(boston_df['AGE'], 0.75), color=\"green\", alpha=0.9, label=\"0.75 quartile\")\r\n",
        "plt.suptitle('Cumulative Histogram of Age', fontsize=17, x=0.5, y=0.93)\r\n",
        "plt.legend()\r\n",
        "plt.show()"
      ],
      "execution_count": null,
      "outputs": [
        {
          "output_type": "display_data",
          "data": {
            "image/png": "[encoded data removed]",
            "text/plain": [
              "<Figure size 1008x576 with 1 Axes>"
            ]
          },
          "metadata": {
            "tags": []
          }
        }
      ]
    },
    {
      "cell_type": "markdown",
      "metadata": {
        "id": "sg1obLLspM9I"
      },
      "source": [
        "#### 1.6 \r\n",
        "#### Identify and report 2 “interesting” trends in the data. No need to provide statistical confidence at this point."
      ]
    },
    {
      "cell_type": "code",
      "metadata": {
        "id": "VtRnV9sp1Loo"
      },
      "source": [
        "# We want to understand different relationships between each pair of features within the data\r\n",
        "sns.pairplot(boston_df_with_price);"
      ],
      "execution_count": null,
      "outputs": []
    },
    {
      "cell_type": "markdown",
      "metadata": {
        "id": "P4vUA0WD_cKx"
      },
      "source": [
        "1.1 The first interesting trend we can see is that there is a relatively strong positive correlation between NOX and INDUS.\r\n",
        "This has an explainable relation, as the proportion of non-retail business acres per town goes up, it makes sense that level of nitric oxides concentration (parts per 10 million) will go up.\r\n",
        "\r\n",
        "\r\n",
        "1.2 The second interesting trend we can see is that there is a strong negative correlation between DIS and AGE.\r\n",
        "We can see that as the proportion of owner-occupied units built prior to 1940 goes up then the weighted distances to five Boston employment centres goes down.\r\n"
      ]
    },
    {
      "cell_type": "code",
      "metadata": {
        "id": "OfUEVclEAQvo"
      },
      "source": [
        "fig, axs = plt.subplots(1, 2,figsize=(15, 6),sharey=False, tight_layout=True)\r\n",
        "# First interesting trend\r\n",
        "NOX = boston_df['NOX']\r\n",
        "INDUS = boston_df['INDUS']\r\n",
        "sns.regplot(NOX, INDUS, ax=axs[0], ci=100, marker=\"+\")\r\n",
        "axs[0].set_title('NOX and INDUS plot', fontdict={'fontsize': 15})\r\n",
        "\r\n",
        "# Second interesting trend\r\n",
        "DIS = boston_df['DIS']\r\n",
        "AGE = boston_df['AGE']\r\n",
        "sns.regplot(DIS, AGE, ax=axs[1], ci=100, marker=\"+\", color=\"red\")\r\n",
        "axs[1].set_title('DIS and AGE plot', fontdict={'fontsize': 15})\r\n",
        "plt.show()"
      ],
      "execution_count": null,
      "outputs": []
    },
    {
      "cell_type": "markdown",
      "metadata": {
        "id": "09-JU8wcArAa"
      },
      "source": [
        "### Question 2 - Independence and conditional independence"
      ]
    },
    {
      "cell_type": "markdown",
      "metadata": {
        "id": "j_I25EiZArAa"
      },
      "source": [
        "#### 2.A\n",
        "Can we define a three dimensional multivariate gaussian that is pairwise-independent but not collectivley independent?\n",
        "If your answer is yes, provide an example.\n",
        "If your answer is no, provide a proof."
      ]
    },
    {
      "cell_type": "markdown",
      "metadata": {
        "id": "6vWhTYa2mzy9"
      },
      "source": [
        "<b> Answer:  </b><br>\r\n",
        "<b>Proof:</b><br>\r\n",
        "We saw in class the following formula:\r\n",
        "$$P(X) =\\frac{1}{2\\pi^{\\frac{d}{2}}\\cdot \\begin{vmatrix}\r\n",
        "\\sum \r\n",
        "\\end{vmatrix}^\\frac{1}{2}}\\cdot e^-\\frac{1}{2}\\cdot(X-\\mu )^t\\cdot{\\sum}^{-1}\\cdot(X-\\mu ) $$ <br>\r\n",
        "\r\n",
        "We begin by denoting the following: \r\n",
        "$$ \\underset{X}{\\rightarrow} = [x_1,x_2,x_3] ,$$<br> $$  \\mu =[\\mu_1,\\mu_2,\\mu_3] ,$$<br> $$ \r\n",
        "\\sum =\\begin{bmatrix}\\sigma_1^2 & 0 & 0\\\\ 0& \\sigma_2^2 &0 \\\\ 0& 0 & \\sigma_3^2\\end{bmatrix}$$\r\n",
        "\r\n",
        "<b>Note:</b> Since the gussians are pairwise independant our covariance matrix is a diagnol matrix with zero in all the covariance entries.\r\n",
        "\r\n",
        "<br>\r\n",
        "Expanding our formula above we get: \r\n",
        "\r\n",
        "$$P(\\begin{bmatrix}x_1\\\\x_2\\\\x_3 \\end{bmatrix}) =\\frac{1}{2\\pi^{\\frac{3}{2}}\\cdot (\\sigma_1^2\\sigma_2^2\\sigma_3^2)^\\frac{1}{2}}\\cdot e^{-\\frac{1}{2}\\cdot(\\begin{bmatrix}x_1\\\\x_2\\\\x_3 \\end{bmatrix}-\\begin{bmatrix}\\mu_1\\\\\\mu_2\\\\\\mu_3 \\end{bmatrix} )^t\\cdot{\\begin{bmatrix}\r\n",
        "\\sigma_1^2 & 0 & 0\\\\ 0& \\sigma_2^2 &0 \\\\ 0& 0 & \\sigma_3^2 \r\n",
        "\\end{bmatrix}}^{-1}\\cdot(\\begin{bmatrix}x_1\\\\x_2\\\\x_3 \\end{bmatrix}-\\begin{bmatrix}\\mu_1\\\\\\mu_2\\\\\\mu_3 \\end{bmatrix} )}$$\r\n",
        "<br>\r\n",
        "$$={\\frac{1}{2\\pi^{\\frac{3}{2}}\\cdot (\\sigma_1^2\\sigma_2^2\\sigma_3^2)^\\frac{1}{2}}\\cdot e^{\\frac{1}{2}\\cdot(({\\frac{x_1 - \\mu_1}{\\sigma_1})}^2+{(\\frac{x_2 - \\mu_2}{\\sigma_2})}^2+{(\\frac{x_3 - \\mu_3}{\\sigma_3})}^2)}}$$\r\n",
        "\r\n",
        "<br>\r\n",
        "$$={(\\frac{1}{2\\pi^{\\frac{1}{2}}\\cdot\\sigma_1}\\cdot e^{\\frac{1}{2}\\cdot(({\\frac{x_1 - \\mu_1}{\\sigma_1})}^2)})}\\cdot{(\\frac{1}{2\\pi^{\\frac{1}{2}}\\cdot\\sigma_2}\\cdot e^{\\frac{1}{2}\\cdot(({\\frac{x_2 - \\mu_2}{\\sigma_2})}^2)})} \\cdot {(\\frac{1}{2\\pi^{\\frac{1}{2}}\\cdot\\sigma_3}\\cdot e^{\\frac{1}{2}\\cdot(({\\frac{x_3 - \\mu_3}{\\sigma_3})}^2)})}$$\r\n",
        "<br>\r\n",
        "\r\n",
        "$$ = P(X = x_1)\\cdot P(X = x_2)\\cdot P(X = x_3)$$\r\n",
        "<br>\r\n",
        "\r\n",
        "Therefore, in conclusion, we get that $$P(X) = P(X = x_1)\\cdot P(X = x_2)\\cdot P(X = x_3)$$\r\n",
        "<br>\r\n",
        "Which we conclude by definition of independance, that a three dimensional multivariate gaussian that is pairwise-independent but not collectivley independent"
      ]
    },
    {
      "cell_type": "markdown",
      "metadata": {
        "id": "m88euCoCArAa"
      },
      "source": [
        "#### 2.B\n",
        "Let $\\ X, Y \\ $ and $Z$  be discrete random variables with $\\ n, m \\ $ and $k$ possible outcomes respectivley.\n",
        "\n",
        "How many parameters define the joint distribution of $\\ X, Y \\ $ and $Z$?"
      ]
    },
    {
      "cell_type": "markdown",
      "metadata": {
        "id": "gDTY2VSnGxXj"
      },
      "source": [
        "<b> Answer: </b><br>\r\n",
        "\r\n",
        "We will consider the most extreme case in order to have a lower bound for how many parameters we need per distrabution.<br> \r\n",
        "Consider the distrabution with $n$ balls in a bag and $n$ different probabilities for each ball. Then we would need $n-1$ parameters, one for each ball except the last one where we use the fact that the probabilites must sum of to 1 to workout the probability.\r\n",
        "\r\n",
        "<br>\r\n",
        "Now, consider when $X$,$Y$ and $Z$ are all the distrabution above, each entry is dependant on the multiplication of the other parameters, therefore we require, $n\\cdot m \\cdot k$ different entries, and $-1$ as we can work out the last entry.\r\n",
        "\r\n",
        "<br>\r\n",
        "Therefore, in total the number of different entries that we require are: $$n\\cdot m \\cdot k -1$$ "
      ]
    },
    {
      "cell_type": "markdown",
      "metadata": {
        "id": "AbhzjCY0ArAa"
      },
      "source": [
        "#### 2.C\n",
        "For the same random variables from the previous section, how many parameters define the joint distribution of $\\ X, Y \\ $ and $Z$ if we now know that they are independent?"
      ]
    },
    {
      "cell_type": "markdown",
      "metadata": {
        "id": "HXH_tLqpIO2W"
      },
      "source": [
        "<b> Answer: </b><br>\r\n",
        "Using the same example as above, in this case we have that each entry in now independant of the others and therefore not dependant on the multiplication of the other paraneters, therefore we require, $n + m + k$ different entries.\r\n",
        "\r\n",
        "<br>\r\n",
        "Therefore, in total the number of different entries that we require are: $$n+ m + k$$ "
      ]
    },
    {
      "cell_type": "markdown",
      "metadata": {
        "id": "TDpcp2BcArAa"
      },
      "source": [
        "#### 2.D\n",
        "For the same random variables from the previous section, how many parameters define the joint distribution of $\\ X, Y \\ $ and $Z$ if we now know that $X$ and $Y$ are conditionaly independent given $Z$?"
      ]
    },
    {
      "cell_type": "markdown",
      "metadata": {
        "id": "TGV6XpMTJmAn"
      },
      "source": [
        "<b> Answer: </b><br>\r\n",
        "As seen in lecture if we now know that $X$ and $Y$ are conditionaly independent given $Z$ then we have the following:\r\n",
        "$$𝑃(𝑋=𝑥∧𝑌=𝑦|Z=z)=𝑃(𝑋=𝑥|Z=z)⋅𝑃(𝑌=𝑦|Z=z)$$\r\n",
        "<br>\r\n",
        "Therefore, there are $n+m$ options for $X∧Y$ whom are indepedant of $Z$ therefore we require, $(n + m) \\cdot k$ different entries.\r\n",
        "\r\n",
        "<br>\r\n",
        "Therefore, in total the number of different entries that we require are: $$(n + m) \\cdot k$$ "
      ]
    },
    {
      "cell_type": "markdown",
      "metadata": {
        "id": "pQqKs0uJArAa"
      },
      "source": [
        "#### 2.E\n",
        "For the random variables from the previous section, let $n=m=2$ and $k=2$. Give and example for a joint distribution of $\\ X, Y \\ $ and $Z$ where $X$ and $Y$ are conditionaly independent given $Z$?"
      ]
    },
    {
      "cell_type": "markdown",
      "metadata": {
        "id": "7WNtmnS3KtKJ"
      },
      "source": [
        "<b> Answer:</b><br>\r\n",
        "\r\n",
        "\r\n",
        "We will begin by describing an example and then derive the joint distributions and show conditonal independance:\r\n",
        "\r\n",
        "We are given fair coins2 coins. One coin is randomly chosen and flipped twice.\r\n",
        "\r\n",
        "We denote the random variables as follows: \r\n",
        "$$Z = Face \\space that \\space comes \\space up \\space for \\space the \\space  1^{st} \\space and \\space 2^{nd} \\space flip $$\r\n",
        "$$X = Face \\space that \\space comes \\space up \\space for \\space the \\space  1^{st} \\space and \\space 2^{nd} \\space flip $$\r\n",
        "$$Y = Face \\space that \\space comes \\space up \\space for \\space the \\space  1^{st} \\space and \\space 2^{nd} \\space flip  $$\r\n",
        "<br>\r\n",
        "It is clear that since heads and tails have a 'hardcoded' colour then $X$ and $Y$ are conditonally independant given our choice in the coin ($Z$) <br>\r\n",
        "\r\n",
        "We prove conditonal independance:\r\n",
        "\r\n",
        "$$𝑃(𝑋=H∧𝑌=B|Z=1) = \\frac{𝑃(𝑋=H∧𝑌=B∧Z=1)}{𝑃(Z=1)} = \\frac{1}{4}$$ <br>\r\n",
        "$$𝑃(𝑋=H|Z=1)⋅𝑃(𝑌=B|Z=1) = \\frac{𝑃(𝑋=H∧Z=1)}{𝑃(Z=1)}*\\frac{𝑃(𝑌=B∧Z=1)}{𝑃(Z=1)}= \\frac{1}{2}*\\frac{1}{2} =  \\frac{1}{4} $$<br>\r\n",
        "$$𝑃(𝑋=H∧𝑌=B|Z=1) =𝑃(𝑋=H|Z=1)⋅𝑃(𝑌=B|Z=1) $$\r\n",
        "\r\n",
        "This can be continued for every case thus, we have conditonal indepedance given $Z$.\r\n"
      ]
    },
    {
      "cell_type": "markdown",
      "metadata": {
        "id": "clLB3Dl1ArAa"
      },
      "source": [
        "### Question 3 - Gaussian mixtures – parameter estimation and generation "
      ]
    },
    {
      "cell_type": "markdown",
      "metadata": {
        "id": "n5p5u0kUArAa"
      },
      "source": [
        "Consider the data provided in GMD.xlsx\n",
        "Assume that the data comes from a Gaussian mixture distribution (GMD) with $k=3\\ \\ $. Furthermore, assume that $\\mu_{1}=4, \\mu_{2}=9, \\sigma_{1}=\\sigma_{2}=0.5, \\sigma_3=1.5$ and $w_2=0.25$.\n",
        "\n",
        "Read the data and answer the following questions."
      ]
    },
    {
      "cell_type": "code",
      "metadata": {
        "id": "Jz-y67gGeHo5"
      },
      "source": [
        "\r\n",
        "gmd_data = pd.read_csv('GMD_2021.csv').values\r\n",
        "gmd_data = gmd_data[:,1].reshape(-1, 1)\r\n",
        "gmd_data.shape"
      ],
      "execution_count": null,
      "outputs": []
    },
    {
      "cell_type": "markdown",
      "metadata": {
        "id": "IMyDfg28ArAa"
      },
      "source": [
        "#### 3.A\n",
        "Provide an estimate for the other parameters of the distribution in two different ways."
      ]
    },
    {
      "cell_type": "markdown",
      "metadata": {
        "id": "aB6Dvi8_AK_7"
      },
      "source": [
        "#### 3.A.1 - First Method: Looking at the data\r\n",
        "We will plot the data and give a visual guess as to what we expect the different parameters to be."
      ]
    },
    {
      "cell_type": "code",
      "metadata": {
        "id": "CQMavVpHlgAv"
      },
      "source": [
        "fig, axes = plt.subplots(1,1, figsize=(20,12))\r\n",
        "sns.histplot(gmd_data, ax=axes, bins=200)\r\n",
        "axes.set_title(\"GMD data Histogram\")\r\n",
        "plt.show()"
      ],
      "execution_count": null,
      "outputs": []
    },
    {
      "cell_type": "markdown",
      "metadata": {
        "id": "JJspiTBCmaOo"
      },
      "source": [
        "Now we will try and calculate the weights by summing up the amount of data points between different ranges. The ranges are dependant on the visual distrabution of the data. And by looking at the way the data is distributed we can guess the missing mean "
      ]
    },
    {
      "cell_type": "code",
      "metadata": {
        "id": "b53yky5YmnUh"
      },
      "source": [
        "# Determining the weights by the amount of samples in given ranges; ranges found from the visual graph above\r\n",
        "w1 = (((0 < gmd_data) & (gmd_data < 7.5)).sum())/len(gmd_data)\r\n",
        "w2 = ((( 7.5 <= gmd_data) & (gmd_data < 11.5)).sum())/len(gmd_data)\r\n",
        "w3 = ((11.5 <= gmd_data).sum())/len(gmd_data)\r\n",
        "weights_1 = [w1,w2,w3]\r\n",
        "# Missing mean is founnd by studying the graph above\r\n",
        "means_1 = [4,9,15.0]"
      ],
      "execution_count": null,
      "outputs": []
    },
    {
      "cell_type": "code",
      "metadata": {
        "id": "X2fjtBNKnHHF"
      },
      "source": [
        "print(\"Weights:\\n\",weights_1)\r\n",
        "print(\"Means:\\n\",means_1)"
      ],
      "execution_count": null,
      "outputs": []
    },
    {
      "cell_type": "markdown",
      "metadata": {
        "id": "ZNPA8TOfhREQ"
      },
      "source": [
        "#### 3.A.2 - Second Method: EM for GMM\r\n",
        "We will use the Expectation Maximization for GMM in order to learn the models parameters. Sklearn has a built in function which we can use."
      ]
    },
    {
      "cell_type": "code",
      "metadata": {
        "id": "Oa_Q9NS414oS"
      },
      "source": [
        "# Setting alreadying known data and unknown data as random\r\n",
        "mu1,mu2,mu3 = 4,9, np.random.randint(0,gmd_data.max())\r\n",
        "sig1,sig2,sig3 = 0.5,0.5,1.5\r\n",
        "w1,w2 = np.random.uniform(0.1, 0.19),0.25\r\n",
        "w3 = 1-w1-w2\r\n",
        "print(\"Random Weights selected\",w1,w2,w3)"
      ],
      "execution_count": null,
      "outputs": []
    },
    {
      "cell_type": "code",
      "metadata": {
        "id": "ccYzUFYKXH4F"
      },
      "source": [
        "class EM(object):\r\n",
        "    def __init__(self, k=3, n_iter=20):\r\n",
        "        self.k = k\r\n",
        "        self.n_iter = n_iter\r\n",
        "       \r\n",
        "    # initial guesses for parameters\r\n",
        "    def init_params(self, data):\r\n",
        "        mu1,mu2,mu3 = 4,9, np.random.randint(0,gmd_data.max())\r\n",
        "        sig1,sig2,sig3 = 0.5,0.5,1.5\r\n",
        "        w1,w2 = np.random.uniform(0.1, 0.19),0.25\r\n",
        "        w3 = 1-w1-w2\r\n",
        "        self.w = [w1,w2,w3]\r\n",
        "        self.mean_arr = [mu1,mu2,mu3]\r\n",
        "        self.sigma_arr = [sig1,sig2,sig3]\r\n",
        "        self.resp = []\r\n",
        "        return(self.w, self.mean_arr, self.sigma_arr)\r\n",
        "        \r\n",
        "        \r\n",
        "    def expectation(self, data):\r\n",
        "        # Calculate pdfs\r\n",
        "        norm_pdf_calc = [[],[],[]]\r\n",
        "        for j in range(len(data)):\r\n",
        "            x = data[j]\r\n",
        "            Sigma_x_k = 0\r\n",
        "            for i in range(self.k):\r\n",
        "              Sigma_x_k += stats.norm(self.mean_arr[i], self.sigma_arr[i]).pdf(x) * self.w[i]\r\n",
        "            for i in range(self.k):\r\n",
        "              norm_pdf_calc[i].append(norm_pdf(x, self.mean_arr[i], self.sigma_arr[i]) * self.w[i] / Sigma_x_k)\r\n",
        "        self.resp = np.array(norm_pdf_calc)\r\n",
        "        return(self.resp)\r\n",
        "            \r\n",
        "   \r\n",
        "    def maximization(self, data):\r\n",
        "        new_w = []\r\n",
        "        new_mean_arr = []\r\n",
        "        new_sigma_arr = []\r\n",
        "        \r\n",
        "        for k in range(self.k):\r\n",
        "            # get k-th responsibility\r\n",
        "            resp_k = self.resp[k].mean()\r\n",
        "          \r\n",
        "            # Calc new weight\r\n",
        "            new_w.append(resp_k)\r\n",
        "     \r\n",
        "            # Calc new mean\r\n",
        "            temp = np.sum(self.resp[k] * data)\r\n",
        "            new_mean_arr.append(temp * (1 / (new_w[k]*data.shape[0])   ))\r\n",
        "         \r\n",
        "        # Set the current variables to the new ones    \r\n",
        "        self.w[2] = new_w[2]\r\n",
        "        self.mean_arr[2] = new_mean_arr[2]\r\n",
        "        return(self.w, self.mean_arr , self.sigma_arr)\r\n",
        "\r\n",
        "    def fit(self, data):\r\n",
        "        \"\"\" \r\n",
        "        Fit training data (the learning phase).\r\n",
        "        Use init_params and then expectation and maximization function in order to find params \r\n",
        "        for the distribution. \r\n",
        "        Store the params in attributes of the EM object.\r\n",
        "        Stop the function when the difference between the previous cost and the current is less than eps\r\n",
        "        or when you reach n_iter.\r\n",
        "        \"\"\"\r\n",
        "        iteration = 0\r\n",
        "        self.init_params(data)\r\n",
        "        while ((iteration < self.n_iter)):\r\n",
        "    \r\n",
        "            self.expectation(data)\r\n",
        "   \r\n",
        "            self.maximization(data)\r\n",
        "            iteration+=1"
      ],
      "execution_count": null,
      "outputs": []
    },
    {
      "cell_type": "code",
      "metadata": {
        "id": "SyUICxlfXlu7"
      },
      "source": [
        "gmm = EM()\r\n",
        "gmm.init_params(gmd_data)\r\n",
        "gmm.fit(gmd_data)"
      ],
      "execution_count": null,
      "outputs": []
    },
    {
      "cell_type": "code",
      "metadata": {
        "id": "1JR8AaiQfHUS"
      },
      "source": [
        "weights_2 = gmm.w\r\n",
        "means_2 = gmm.mean_arr"
      ],
      "execution_count": null,
      "outputs": []
    },
    {
      "cell_type": "code",
      "metadata": {
        "id": "jcCF8ElsiPwp"
      },
      "source": [
        "print(\"Weights:\\n\",weights_2)\r\n",
        "print(\"Means:\\n\",means_2)"
      ],
      "execution_count": null,
      "outputs": []
    },
    {
      "cell_type": "code",
      "metadata": {
        "id": "jH5SK5f7-ltX"
      },
      "source": [
        "fig, axes = plt.subplots(1,1, figsize=(20,12))\r\n",
        "sns.histplot(gmd_data, ax=axes, bins=100)\r\n",
        "axes.axvline(means_2[0], color=\"green\", label=\"mu1 found\")\r\n",
        "axes.axvline(means_2[1], color=\"red\", label=\"mu2 found\")\r\n",
        "axes.axvline(means_2[2], color=\"orange\", label=\"mu3 found\")\r\n",
        "axes.set_title(\"EM for GMM\")\r\n",
        "plt.legend()\r\n",
        "plt.show()"
      ],
      "execution_count": null,
      "outputs": []
    },
    {
      "cell_type": "markdown",
      "metadata": {
        "id": "eQS-1MHcArAa"
      },
      "source": [
        "#### 3.B\n",
        "Plot a graph of the pdf of the distribution you inferred. Select adequate limits for the axes for this plot and explain your decision."
      ]
    },
    {
      "cell_type": "code",
      "metadata": {
        "id": "mW_RAt7vDMvQ"
      },
      "source": [
        "n = 100000 # number of sample to be drawn\r\n",
        "mu = [4,9,15]\r\n",
        "sigma = [0.5, 0.5, 1.5]\r\n",
        "samples = []\r\n",
        "fig, axes = plt.subplots(1,2, figsize=(22,6))\r\n",
        "for i in range(n): # iteratively draw samples\r\n",
        "    Z = np.random.choice([0,1,2]) # latent variable\r\n",
        "    samples.append(np.random.normal(mu[Z], sigma[Z], 1))\r\n",
        "sns.distplot(samples, ax=axes[0],hist=False, bins=100, color=\"red\")\r\n",
        "axes[0].set_title(\"Distribution plot of Data\")\r\n",
        "sns.distplot(samples,ax=axes[1],color=\"red\")\r\n",
        "axes[1].set_title(\"Distribution + Histogram plot of Data\")\r\n",
        "\r\n",
        "axes[0].axvline(means_1[0], color=\"green\", alpha=0.5,label=\"mu1 found\")\r\n",
        "axes[0].axvline(means_1[1], color=\"black\", alpha=0.5,label=\"mu2 found\")\r\n",
        "axes[0].axvline(means_1[2], color=\"orange\", alpha=0.5,label=\"mu3 found\")\r\n",
        "\r\n",
        "axes[1].axvline(means_1[0], color=\"green\", alpha=0.5,label=\"mu1 found\")\r\n",
        "axes[1].axvline(means_1[1], color=\"black\", alpha=0.5,label=\"mu2 found\")\r\n",
        "axes[1].axvline(means_1[2], color=\"orange\", alpha=0.5,label=\"mu3 found\")\r\n",
        "plt.legend()\r\n",
        "plt.show()"
      ],
      "execution_count": null,
      "outputs": []
    },
    {
      "cell_type": "markdown",
      "metadata": {
        "id": "WZYbhN0DKg6Z"
      },
      "source": [
        "From the given data we have learnt the pdf plotted above. And as can be seen above, we have plotted a guassian mixture model. The data provided allowed us to understand that the range of the data is unlikly to surpass the late 20's and therefore the pdf plot doesnt require to be drawn much further than that."
      ]
    },
    {
      "cell_type": "markdown",
      "metadata": {
        "id": "rVZaszBEArAa"
      },
      "source": [
        "#### 3.C\n",
        "Describe two ways for generating data for a GMD random variable with:\n",
        "* centers at  $\\mu_1+3, \\mu_2+5, \\mu_3+7$\n",
        "* $\\sigma_1=\\sigma_2=\\sigma_3=1$\n",
        "* $w_1=w_2=w_3=0.33$"
      ]
    },
    {
      "cell_type": "markdown",
      "metadata": {
        "id": "qnxYXib8z2y1"
      },
      "source": [
        "<b>The first way: Direct method</b><br>\r\n",
        "We can draw three gaussians using the parameters of $\\mu$ = [$\\mu_1+3, \\mu_2+5, \\mu_3+7$ ] and $\\sigma$ = 1. We then sample data directly from the distrabutions in a uniform manner seeing as tall the weights are equal."
      ]
    },
    {
      "cell_type": "markdown",
      "metadata": {
        "id": "bcE4SMCe0vF6"
      },
      "source": [
        "<b>The second way: Inverse Method</b><br>\r\n",
        "We begin by choosing random numbers within the uniform distribution and then use the inverse method showed in recitation, when we use the $ppf$ to generate the data.\r\n"
      ]
    },
    {
      "cell_type": "markdown",
      "metadata": {
        "id": "lsGiw9kHArAa"
      },
      "source": [
        "#### 3.D\n",
        "Use one of the above approaches to generate 1000 points and plot a histogram of the result (decide on bins, axes etc)\n"
      ]
    },
    {
      "cell_type": "code",
      "metadata": {
        "id": "6nmUBDwGHx-Z"
      },
      "source": [
        "n = 1000 # number of sample to be drawn\r\n",
        "mu = [means_1[0]+3,means_1[1]+5,means_1[2]+7]\r\n",
        "samples = []\r\n",
        "fig, axes = plt.subplots(1,2, figsize=(22,6))\r\n",
        "for i in range(n): # iteratively draw samples\r\n",
        "    Z = np.random.choice([0,1,2]) # latent variable\r\n",
        "    samples.append(np.random.normal(mu[Z], 1, 1))\r\n",
        "sns.distplot(samples,ax=axes[0], hist=False, bins=300, color=\"green\")\r\n",
        "axes[0].set_title(\"Distribution plot of new sampled data\")\r\n",
        "sns.distplot(samples,ax=axes[1],bins=100, color=\"green\")\r\n",
        "axes[1].set_title(\"Distribution plot of new sampled data\")\r\n",
        "\r\n",
        "axes[0].axvline(means_1[0]+3, color=\"red\", alpha=0.5,label=\"new mu1\")\r\n",
        "axes[0].axvline(means_1[1]+5, color=\"black\", alpha=0.5,label=\"new mu2\")\r\n",
        "axes[0].axvline(means_1[2]+7, color=\"orange\", alpha=0.5,label=\"new mu3\")\r\n",
        "\r\n",
        "axes[1].axvline(means_1[0]+3, color=\"red\", alpha=0.5,label=\"new mu1\")\r\n",
        "axes[1].axvline(means_1[1]+5, color=\"black\", alpha=0.5,label=\"new mu2\")\r\n",
        "axes[1].axvline(means_1[2]+7, color=\"orange\", alpha=0.5,label=\"new mu3\")\r\n",
        "plt.legend()\r\n",
        "plt.show()"
      ],
      "execution_count": null,
      "outputs": []
    },
    {
      "cell_type": "markdown",
      "metadata": {
        "id": "w35TVmNAArAa"
      },
      "source": [
        "#### 3.E - BONUS\n",
        "Use the other one to generate 1000 more points and draw two comparative histograms.\n"
      ]
    },
    {
      "cell_type": "code",
      "metadata": {
        "id": "MtHL9hXtLX1C"
      },
      "source": [
        "# Generating random data points and using the ppf to get the data\r\n",
        "q=np.random.rand(333)\r\n",
        "result1 = np.array(stats.norm.ppf(q,loc=means_1[0]+3,scale=1))\r\n",
        "q=np.random.rand(333)\r\n",
        "result2 = np.array(stats.norm.ppf(q,loc=means_1[1]+5,scale=1))\r\n",
        "q=np.random.rand(334)\r\n",
        "result3 = np.array(stats.norm.ppf(q,loc=means_1[2]+7,scale=1))\r\n",
        "samples = np.concatenate((result1, result2, result3))"
      ],
      "execution_count": null,
      "outputs": []
    },
    {
      "cell_type": "code",
      "metadata": {
        "id": "DWJUyyT2IM8u"
      },
      "source": [
        "# Plotting the data\r\n",
        "fig, axes = plt.subplots(1,2, figsize=(22,6))\r\n",
        "sns.distplot(samples,ax=axes[0], hist=False, bins=300, color=\"purple\")\r\n",
        "axes[0].set_title(\"Distribution plot of new sampled data\")\r\n",
        "sns.distplot(samples,ax=axes[1],bins=100, color=\"purple\")\r\n",
        "axes[1].set_title(\"Distribution plot of new sampled data\")\r\n",
        "\r\n",
        "axes[0].axvline(means_1[0]+3, color=\"red\", alpha=0.5,label=\"new mu1\")\r\n",
        "axes[0].axvline(means_1[1]+5, color=\"black\", alpha=0.5,label=\"new mu2\")\r\n",
        "axes[0].axvline(means_1[2]+7, color=\"orange\", alpha=0.5,label=\"new mu3\")\r\n",
        "\r\n",
        "axes[1].axvline(means_1[0]+3, color=\"red\", alpha=0.5,label=\"new mu1\")\r\n",
        "axes[1].axvline(means_1[1]+5, color=\"black\", alpha=0.5,label=\"new mu2\")\r\n",
        "axes[1].axvline(means_1[2]+7, color=\"orange\", alpha=0.5,label=\"new mu3\")\r\n",
        "plt.legend()\r\n",
        "plt.show()"
      ],
      "execution_count": null,
      "outputs": []
    },
    {
      "cell_type": "markdown",
      "metadata": {
        "id": "vi3BlBqAArAa"
      },
      "source": [
        "### Question 4 - Normally distributed salaries"
      ]
    },
    {
      "cell_type": "markdown",
      "metadata": {
        "id": "xpokLxmvArAa"
      },
      "source": [
        "The annual salaries of employees in a large Randomistan company are approximateley normally distributed with a mean of 70,000 RCU and a standard deviation of 30,000 RCU."
      ]
    },
    {
      "cell_type": "code",
      "metadata": {
        "id": "Hy1qsOSR856g"
      },
      "source": [
        "mu = 70_000\r\n",
        "sd = 30_000\r\n",
        "norm = stats.norm(loc=mu, scale=sd)"
      ],
      "execution_count": null,
      "outputs": []
    },
    {
      "cell_type": "markdown",
      "metadata": {
        "id": "1z3QuzyyArAa"
      },
      "source": [
        "#### 4.A\n",
        "What percent of people earn less than 50,000 RCU?"
      ]
    },
    {
      "cell_type": "markdown",
      "metadata": {
        "id": "2EybcGAuD9lf"
      },
      "source": [
        "The percentage of people earn less than 50,000 RCU: $P(x < 50,000) $"
      ]
    },
    {
      "cell_type": "code",
      "metadata": {
        "id": "vrvsMeIh_FE5"
      },
      "source": [
        "norm.cdf(50_000)"
      ],
      "execution_count": null,
      "outputs": []
    },
    {
      "cell_type": "markdown",
      "metadata": {
        "id": "Ix0LYgUwArAb"
      },
      "source": [
        "#### 4.B\n",
        "What percent of people earn between 45,000 RCU and 65,000 RCU?"
      ]
    },
    {
      "cell_type": "markdown",
      "metadata": {
        "id": "zXS7DrLfEMTe"
      },
      "source": [
        "The percentage of people earn between 45,000 RCU and 65,000 RCU: $P(x < 65,000) - P(x < 45,000)$"
      ]
    },
    {
      "cell_type": "code",
      "metadata": {
        "id": "ZBZIBvUB_Kda"
      },
      "source": [
        "norm.cdf(65_000) - norm.cdf(45_000)"
      ],
      "execution_count": null,
      "outputs": []
    },
    {
      "cell_type": "markdown",
      "metadata": {
        "id": "eOLk9TV3ArAb"
      },
      "source": [
        "#### 4.C\n",
        "What percent of people earn more than 70,000 RCU?"
      ]
    },
    {
      "cell_type": "markdown",
      "metadata": {
        "id": "hOtyed-oER7_"
      },
      "source": [
        "The percentage of people earn more than 70,000 RCU: $1 - P(x < 70,000)$"
      ]
    },
    {
      "cell_type": "code",
      "metadata": {
        "id": "uDxHLEl5_rTA"
      },
      "source": [
        "1-norm.cdf(70_000)"
      ],
      "execution_count": null,
      "outputs": []
    },
    {
      "cell_type": "markdown",
      "metadata": {
        "id": "-uzdmM2uArAb"
      },
      "source": [
        "#### 4.D\n",
        "The company has 1000 employees. How many employees in the company do you expect to earn more than 140,000 RCU?"
      ]
    },
    {
      "cell_type": "code",
      "metadata": {
        "id": "t8T4txGQ_2mh"
      },
      "source": [
        "employees = 1_000\r\n",
        "one_employee_prob = (1 - norm.cdf(140_000))\r\n",
        "total_amount = np.round(employees * one_employee_prob)\r\n",
        "print(\"The total amount out of 1,000 employees earning more than 140,000RCU is:\", total_amount, \"and that is a total percentage of\",total_amount/ employees, \"%.\")"
      ],
      "execution_count": null,
      "outputs": []
    },
    {
      "cell_type": "markdown",
      "metadata": {
        "id": "z505WL28ArAb"
      },
      "source": [
        "#### 4.E\n",
        "<span style=\"color:red\"> This question was slightly updated due to a subtlety in the phrasing </span>\n",
        "\n",
        "A survey is performed on employees of the company. **20 groups of 50 employees each are sampled (with replacenets).**\n",
        "What is the probability that more than 10 groups have an average salary between 50,000 RCU and 70,000 RCU?"
      ]
    },
    {
      "cell_type": "code",
      "metadata": {
        "id": "3ro66hhKBi09"
      },
      "source": [
        "# Using the CLT we get\r\n",
        "new_norm = stats.norm(loc= mu, scale=sd/50)\r\n",
        "# Calc the probability for one group of 50\r\n",
        "p = new_norm.cdf(70000) - new_norm.cdf(50000)\r\n",
        "# Use binom distrabution for the 20 groups\r\n",
        "binom = stats.binom(p=p, n=20)\r\n",
        "1 - binom.cdf(10)"
      ],
      "execution_count": null,
      "outputs": []
    },
    {
      "cell_type": "markdown",
      "metadata": {
        "id": "KRWPUCXyArAb"
      },
      "source": [
        "### Question 5 - Coupon collector"
      ]
    },
    {
      "cell_type": "code",
      "metadata": {
        "id": "SaW8OAjY8vo1"
      },
      "source": [
        " # number of coupons\r\n",
        "n = 20"
      ],
      "execution_count": null,
      "outputs": []
    },
    {
      "cell_type": "code",
      "metadata": {
        "id": "O7p7YrWZNMKz"
      },
      "source": [
        "def coupon_mean(n):\r\n",
        "  mean = 0.0\r\n",
        "  for x in range(n):\r\n",
        "    geom_i = stats.geom((n - x) / n)\r\n",
        "    mean +=  geom_i.mean()\r\n",
        "  return mean"
      ],
      "execution_count": null,
      "outputs": []
    },
    {
      "cell_type": "code",
      "metadata": {
        "id": "47njcSYKNN1E"
      },
      "source": [
        "def coupon_var(n):\r\n",
        "  var = 0.0\r\n",
        "  for x in range(n):\r\n",
        "    geom_i = stats.geom((n - x) / n)\r\n",
        "    var +=  geom_i.var()\r\n",
        "  return var"
      ],
      "execution_count": null,
      "outputs": []
    },
    {
      "cell_type": "markdown",
      "metadata": {
        "id": "n4TF1akKArAb"
      },
      "source": [
        "Let $T_{N}$ denote the waiting time for full single coupon collection with N different equiprobable coupon types"
      ]
    },
    {
      "cell_type": "markdown",
      "metadata": {
        "id": "ixrOXeCQArAb"
      },
      "source": [
        "#### 5.A\n",
        "Write code to compute the exact value of $E(T_{N})$"
      ]
    },
    {
      "cell_type": "code",
      "metadata": {
        "id": "pUpuCWa180pX"
      },
      "source": [
        "print(coupon_mean(n))"
      ],
      "execution_count": null,
      "outputs": []
    },
    {
      "cell_type": "markdown",
      "metadata": {
        "id": "cMtpjDUuArAb"
      },
      "source": [
        "#### 5.B\n",
        "Write code to compute the exact value of $V(T_{N})$"
      ]
    },
    {
      "cell_type": "code",
      "metadata": {
        "id": "YQEwvwBuBEcB"
      },
      "source": [
        "print(coupon_var(n))"
      ],
      "execution_count": null,
      "outputs": []
    },
    {
      "cell_type": "markdown",
      "metadata": {
        "id": "MGiqMqVPArAb"
      },
      "source": [
        "#### 5.C\n",
        "Write code to exactly compute $P(T_{20}>40)$"
      ]
    },
    {
      "cell_type": "code",
      "metadata": {
        "id": "5Zzbp6ATCxAF"
      },
      "source": [
        "#calculate 1-P(T_20 = 20..39)\r\n",
        "#(X_1 + ... + X_20 > 40)\r\n",
        "# Memoization table for fast computation\r\n",
        "dict_table = {}\r\n",
        "def coupon_cdf(dict_table, how_much_we_have, num_of_tries_left, coupons):\r\n",
        "  p = (coupons - how_much_we_have) / coupons\r\n",
        "  if how_much_we_have >= coupons:\r\n",
        "    dict_table[(how_much_we_have, num_of_tries_left)] = 1\r\n",
        "    return 1\r\n",
        "  elif coupons - how_much_we_have > num_of_tries_left:\r\n",
        "    dict_table[(how_much_we_have, num_of_tries_left)] = 0\r\n",
        "    return 0\r\n",
        "  elif (how_much_we_have, num_of_tries_left) in dict_table:\r\n",
        "    return dict_table[(how_much_we_have, num_of_tries_left)]\r\n",
        "  else:\r\n",
        "    res = (p * coupon_cdf(dict_table, how_much_we_have + 1, num_of_tries_left - 1, coupons)) + ((1 - p) *  coupon_cdf(dict_table, how_much_we_have, num_of_tries_left - 1, coupons))\r\n",
        "    dict_table[(how_much_we_have, num_of_tries_left)] = res\r\n",
        "    return res\r\n",
        "\r\n",
        "cdf = coupon_cdf(dict_table, 0, 40, 20)\r\n",
        "T_20 = 1-cdf\r\n",
        "print(T_20)"
      ],
      "execution_count": null,
      "outputs": []
    },
    {
      "cell_type": "markdown",
      "metadata": {
        "id": "dcS_mu6lArAb"
      },
      "source": [
        "#### 5.D\n",
        "Use Chebicheff to provide a bound for the probability from C and compare the results"
      ]
    },
    {
      "cell_type": "markdown",
      "metadata": {
        "id": "euTFRhOu0lL4"
      },
      "source": [
        "We are seen two different equations for Chebychev:<br>\r\n",
        "1. $$\\Pr(|X-\\mu |\\geq k\\sigma )\\leq {\\frac {1}{k^{2}}}.$$\r\n",
        "2. $$\\Pr(|X-\\mu |< k\\sigma )\\geq 1- {\\frac {1}{k^{2}}}.$$\r\n",
        "\r\n",
        "We will used the second formula to compute our bound. Firstly, in chebyshev we are calculating a bound for a random variable. Therefore, in the equation the role of $X$ is played by 30, and the $\\sigma$ and $\\mu$ are what we have calculated above.<br> \r\n",
        "\r\n",
        "Therefore, we begin by calculating our $k$. This can be achieved by substituting our values into the following rearrangment of the formula: \r\n",
        "$$Pr(\\mu-k\\sigma < X < k\\sigma+\\mu) $$"
      ]
    },
    {
      "cell_type": "code",
      "metadata": {
        "id": "OKgSITOt2EIc"
      },
      "source": [
        "X = 40\r\n",
        "mu = coupon_mean(n)\r\n",
        "sigma = np.sqrt(coupon_var(n))\r\n",
        "\r\n",
        "X, mu, sigma"
      ],
      "execution_count": null,
      "outputs": []
    },
    {
      "cell_type": "code",
      "metadata": {
        "id": "v4FXA8BQ2bgq"
      },
      "source": [
        "# Calculating the 'k'\r\n",
        "k = np.absolute(X-mu)/sigma\r\n",
        "k"
      ],
      "execution_count": null,
      "outputs": []
    },
    {
      "cell_type": "markdown",
      "metadata": {
        "id": "TVV4SAxM3gb2"
      },
      "source": [
        "Now that we have found our $k$ we can simply plug it into the formula (#2)"
      ]
    },
    {
      "cell_type": "code",
      "metadata": {
        "id": "061z67RMXPEW"
      },
      "source": [
        "# Showing the chebyshev bound\r\n",
        "chebyshev_bound = 1-1/k**2\r\n",
        "chebyshev_bound"
      ],
      "execution_count": null,
      "outputs": []
    },
    {
      "cell_type": "markdown",
      "metadata": {
        "id": "OvFSGt6q3qw4"
      },
      "source": [
        "It is clear that Chebyshev has given us a valid lower bound $= 0.4452..$ which is actually quite far away from the precise result calculated in 5.c $=0.964...$ Therefore, as discussed in lecture, chebyshev is simply a tool to better understand the probability but evidently it is not a 'tight' bound as we would like it to be. "
      ]
    },
    {
      "cell_type": "markdown",
      "metadata": {
        "id": "ulnjHAGD48Hk"
      },
      "source": [
        "### End of Assignment"
      ]
    },
    {
      "cell_type": "code",
      "metadata": {
        "id": "_TOubwFI5DYE"
      },
      "source": [
        ""
      ],
      "execution_count": null,
      "outputs": []
    }
  ]
}