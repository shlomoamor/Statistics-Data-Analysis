{
  "nbformat": 4,
  "nbformat_minor": 0,
  "metadata": {
    "kernelspec": {
      "display_name": "Python 3",
      "language": "python",
      "name": "python3"
    },
    "language_info": {
      "codemirror_mode": {
        "name": "ipython",
        "version": 3
      },
      "file_extension": ".py",
      "mimetype": "text/x-python",
      "name": "python",
      "nbconvert_exporter": "python",
      "pygments_lexer": "ipython3",
      "version": "3.7.6"
    },
    "colab": {
      "name": "HW1 5.12.ipynb",
      "provenance": [],
      "collapsed_sections": []
    }
  },
  "cells": [
    {
      "cell_type": "markdown",
      "metadata": {
        "id": "HHXG8dAYOsiq"
      },
      "source": [
        "### IDs:\n",
        "Insert yours IDs to the cell below"
      ]
    },
    {
      "cell_type": "markdown",
      "metadata": {
        "id": "eR8xBuu6Osiy"
      },
      "source": [
        " **ID #1: 311149082**\n",
        "\n",
        "**ID #2: 000803254**\n"
      ]
    },
    {
      "cell_type": "markdown",
      "metadata": {
        "id": "_NXCK36tOsi3"
      },
      "source": [
        "## Read the following instructions carefully:\n",
        "\n",
        "1. This jupyter notebook contains all the step by step instructions needed for this exercise.\n",
        "1. You are free to add cells.\n",
        "1. Write your functions and your answers in this jupyter notebook only.\n",
        "1. Answers to theoretical questions should be written in **markdown cells (with $\\LaTeX$ support)**.\n",
        "1. Submit this jupyter notebook only using your ID as a filename. Not to use ZIP or RAR. For example, your Moodle submission file name should look like this (two id numbers): `123456789_987654321.ipynb`."
      ]
    },
    {
      "cell_type": "code",
      "metadata": {
        "id": "hUdB7bVmS2SZ"
      },
      "source": [
        "from scipy import stats\n",
        "import pandas as pd\n",
        "import numpy as np\n",
        "import matplotlib.pyplot as plt\n",
        "%matplotlib inline\n",
        "plt.rcParams['figure.figsize'] = (10.0,5.0) # set default size of plots"
      ],
      "execution_count": 5,
      "outputs": []
    },
    {
      "cell_type": "markdown",
      "metadata": {
        "id": "UmEqVj8ROsi6"
      },
      "source": [
        "### **Question 1 - Defective products**"
      ]
    },
    {
      "cell_type": "markdown",
      "metadata": {
        "id": "WGRNhYpLOsi-"
      },
      "source": [
        "In a manufacturing pipeline products are 3% defective. We are interested in examining a defective product to see what goes wrong on the belt. We need to ask the facility manager to send us a set of independent samples for examination."
      ]
    },
    {
      "cell_type": "markdown",
      "metadata": {
        "id": "s8kXUgUnOsjA"
      },
      "source": [
        "#### 1.A\n",
        "\n",
        "How many independent samples should we ask for in order to have a 85% probability of having at least one defective product in the batch sent? You should write a function."
      ]
    },
    {
      "cell_type": "markdown",
      "metadata": {
        "id": "C6na-9bta37t"
      },
      "source": [
        "We begin by defining the random variable $X$.<br> <br> \n",
        "$X$ ~ $Binom(n, p)$ where $p=0.03$. This means that $X$ is the number of successes (how many defective product) given n attempts.\n",
        "<br>\n",
        "In general,\n",
        "$$P(X \\ge k)=1-P(X<k)=1-P(X \\leq k-1) = p_{goal}$$\n",
        "We want to find a value for $n$ such that we have that: $$P(X\\ge1) = 0.85$$"
      ]
    },
    {
      "cell_type": "code",
      "metadata": {
        "id": "aZ9TbKY_OsjB"
      },
      "source": [
        "# This function runs many simulations until we find the right n-value\n",
        "# Input: p, k and threshold.\n",
        "# Output: n and all the calculated probabilities \n",
        "def find_n(prob_defective, threshold, k_defective):\n",
        "  res = []\n",
        "  for n in range(0, 1000):\n",
        "    distrabution = 1 - stats.binom.cdf(k=k_defective-1, n=n, p=prob_defective)\n",
        "    res.append(distrabution)\n",
        "    if distrabution >= threshold:\n",
        "      return n, res\n",
        "  "
      ],
      "execution_count": 2,
      "outputs": []
    },
    {
      "cell_type": "code",
      "metadata": {
        "id": "qzYtlLUSiM39"
      },
      "source": [
        "# This function plots the probabilities calculated in the find_n function\n",
        "# Input: probability_array, k and threshold.\n",
        "def plot_probs(results, threshold, k_defective):\n",
        "  plt.plot(np.arange(0, len(results)),results,  color='b', label=\"Probabilities - Line\", alpha=0.2)\n",
        "  plt.bar(np.arange(0, len(results)),results,  color='G', label=\"Probabilities - Bar\")\n",
        "  plt.axhline( y=threshold,color='r',linestyle=\"dashed\", alpha = 0.5)\n",
        "  plt.axvline( x=len(results)-1,color='b',linestyle=\"dashed\", alpha = 0.5)\n",
        "  plt.ylim([0,1.0])\n",
        "  plt.xlabel(\"Number of products\")\n",
        "  plt.ylabel((\"Probability of \" + str(k_defective) + \" defective products\"))\n",
        "  plt.legend()\n",
        "  plt.show()"
      ],
      "execution_count": 88,
      "outputs": []
    },
    {
      "cell_type": "markdown",
      "metadata": {
        "id": "yZ56WTGW7Z4K"
      },
      "source": [
        "We will use the $p$ value give and the target threshold in order to find the correct $n$ value:"
      ]
    },
    {
      "cell_type": "code",
      "metadata": {
        "id": "7IxfvDvDipaz",
        "colab": {
          "base_uri": "https://localhost:8080/",
          "height": 338
        },
        "outputId": "8ecbe5c2-9b88-4039-e014-51c8b8b9b74d"
      },
      "source": [
        "prob_defective, threshold, k_defective = 0.03,0.85,1\n",
        "n_val, res = find_n(prob_defective, threshold, k_defective)\n",
        "plot_probs(res,threshold, k_defective)"
      ],
      "execution_count": 89,
      "outputs": [
        {
          "output_type": "display_data",
          "data": {
            "image/png": "[encoded data removed]",
            "text/plain": [
              "<Figure size 720x360 with 1 Axes>"
            ]
          },
          "metadata": {
            "tags": [],
            "needs_background": "light"
          }
        }
      ]
    },
    {
      "cell_type": "markdown",
      "metadata": {
        "id": "ylzQ7r_Q7x7t"
      },
      "source": [
        "As it can be seen from the diagram, we reach our threshold when $n=63$. "
      ]
    },
    {
      "cell_type": "markdown",
      "metadata": {
        "id": "PZ78Q3ZQOsjN"
      },
      "source": [
        "#### 1.B\n",
        "Answer this part again with the following changes: products are 4% defective and we want a 95% probability of at least one defective product in the batch."
      ]
    },
    {
      "cell_type": "code",
      "metadata": {
        "id": "n4d0J6RHOsjP",
        "colab": {
          "base_uri": "https://localhost:8080/",
          "height": 338
        },
        "outputId": "767c4f0b-ae90-43f5-d6ae-52b7127ef841"
      },
      "source": [
        "prob_defective, threshold, k_defective = 0.04,0.95,1\n",
        "n_val, res = find_n(prob_defective, threshold, k_defective)\n",
        "plot_probs(res,threshold, k_defective)"
      ],
      "execution_count": 90,
      "outputs": [
        {
          "output_type": "display_data",
          "data": {
            "image/png": "[encoded data removed]",
            "text/plain": [
              "<Figure size 720x360 with 1 Axes>"
            ]
          },
          "metadata": {
            "tags": [],
            "needs_background": "light"
          }
        }
      ]
    },
    {
      "cell_type": "markdown",
      "metadata": {
        "id": "BTd4Ql6L8C9N"
      },
      "source": [
        "As it can be seen from the diagram, we reach our threshold when $n=74$. "
      ]
    },
    {
      "cell_type": "markdown",
      "metadata": {
        "id": "UUWaEH-fOsjX"
      },
      "source": [
        "#### 1.C \n",
        "\n",
        "Consider the following cases and calculate how many independent samples are required: \n",
        "\n",
        "1. Products are 10% defective and we want a 90% probability of at least 5 defective products in the batch.\n",
        "1. Products are 30% defective and we want a 90% probability of at least 15 defective products in the batch.\n",
        "\n",
        "Explain the difference between the two results. You should use mathematical reasoning based on the properties of distributions you saw in class and visualizations in your answer."
      ]
    },
    {
      "cell_type": "markdown",
      "metadata": {
        "id": "fd3UvUB5lPxu"
      },
      "source": [
        "1. We calculate the $n$ to ensure that when products are 10% defective and we want a 90% probability of at least 5 defective products in the batch."
      ]
    },
    {
      "cell_type": "code",
      "metadata": {
        "id": "gLo3KbsNOsjY",
        "colab": {
          "base_uri": "https://localhost:8080/",
          "height": 338
        },
        "outputId": "1a8fc621-96a8-4e39-98e9-668b2580d17d"
      },
      "source": [
        "prob_defective, threshold, k_defective = 0.10,0.9,5\n",
        "n_val, res = find_n(prob_defective, threshold, k_defective)\n",
        "plot_probs(res,threshold, k_defective)\n",
        "#print(\"\\nWe found that the value for n is:\", n_val)"
      ],
      "execution_count": 91,
      "outputs": [
        {
          "output_type": "display_data",
          "data": {
            "image/png": "[encoded data removed]",
            "text/plain": [
              "<Figure size 720x360 with 1 Axes>"
            ]
          },
          "metadata": {
            "tags": [],
            "needs_background": "light"
          }
        }
      ]
    },
    {
      "cell_type": "markdown",
      "metadata": {
        "id": "8K4fJVS88fzm"
      },
      "source": [
        "As it can be seen from the diagram, we reach our threshold when $n=78$. "
      ]
    },
    {
      "cell_type": "markdown",
      "metadata": {
        "id": "PkzqRCHilhLi"
      },
      "source": [
        "2. We calculate the $n$ to ensure that products are 30% defective and we want a 90% probability of at least 15 defective products in the batch."
      ]
    },
    {
      "cell_type": "code",
      "metadata": {
        "id": "tImf4mfXkfpV",
        "colab": {
          "base_uri": "https://localhost:8080/",
          "height": 338
        },
        "outputId": "40eb2a51-c282-4953-e285-7d1a3def27a0"
      },
      "source": [
        "prob_defective, threshold, k_defective = 0.30,0.9,15\n",
        "n_val, res = find_n(prob_defective, threshold, k_defective)\n",
        "plot_probs(res,threshold, k_defective)\n",
        "#print(\"\\nWe found that the value for n is:\", n_val)"
      ],
      "execution_count": 92,
      "outputs": [
        {
          "output_type": "display_data",
          "data": {
            "image/png": "[encoded data removed]",
            "text/plain": [
              "<Figure size 720x360 with 1 Axes>"
            ]
          },
          "metadata": {
            "tags": [],
            "needs_background": "light"
          }
        }
      ]
    },
    {
      "cell_type": "markdown",
      "metadata": {
        "id": "y-OWZWo28qyA"
      },
      "source": [
        "As it can be seen from the diagram, we reach our threshold when $n=64$. We explain our findings further below:"
      ]
    },
    {
      "cell_type": "markdown",
      "metadata": {
        "id": "g_nrEEmdsb-h"
      },
      "source": [
        "From the first example we get: $$ 1-P(X\\leq l-1) =1-\\sum_{k=1}^{l-1}\\binom{n}{k} p^k(1-p)^{n-k}=1-\\sum_{k=1}^{4}\\binom{n}{k} 0.1^k(0.9)^{n-k}=0.9 $$\n",
        "$$\\sum_{k=1}^{4}\\binom{n}{k} 0.1^k(0.9)^{n-k}=0.1$$\n",
        " \n",
        "From the second example we get:\n",
        "$$1-P(X\\leq l-1) =1-\\sum_{k=1}^{l-1}\\binom{n}{k} p^k(1-p)^{n-k}=1-\\sum_{k=1}^{14}\\binom{n}{k} 0.3^k(0.7)^{n-k}=0.9$$\n",
        "\n",
        "$$\\sum_{k=1}^{14}\\binom{n}{k} 0.3^k(0.7)^{n-k}=0.1 $$\n",
        "\n",
        "We can see from the results we expect to see a smaller value for $n$ than for the first one since, the change in the probabilty value $p$ has a great influence in the factor of the $k$ value (goal number) of defective products. <br>Since we have that the second example is 3 times the size of the first example then, when we enlarge $p$ by 3 there would be much less samples required in order to find the amount of defective products."
      ]
    },
    {
      "cell_type": "markdown",
      "metadata": {
        "id": "JmACTVnBOsjf"
      },
      "source": [
        "### Question 2 - Rent distributions in Randomistan"
      ]
    },
    {
      "cell_type": "markdown",
      "metadata": {
        "id": "Zjz9kG3gOsjg"
      },
      "source": [
        "The state of Randomistan conducted a survey to study the distribution of rent paid in two neighboring towns, Stochastic Heights and Random Grove, to be denoted SH and RG.<br> \n",
        "\n",
        "Here are some findings of the survey:\n",
        "* The population of SH and RG is 16,000 and 22,000 respectively. <br>\n",
        "* The mean rent in SH and RG is 6300RCU and 4200RCU respectively.\n",
        "* The median rent is 4600RCU in both towns.\n",
        "* The IQR of the rent is smaller in SH than in RG.\n",
        "\n",
        "All data generated in this question needs to be consistent with these findings."
      ]
    },
    {
      "cell_type": "markdown",
      "metadata": {
        "id": "TxI7GXrjOsjh"
      },
      "source": [
        "#### 2.A\n",
        "Draw histograms that describe 2 different scenarii of possible distributions of rent in the two towns.\u000bYour histograms should:<br>\n",
        "* Use bins of 100RCU each.\n",
        "* Have at least 10 non zero bins."
      ]
    },
    {
      "cell_type": "code",
      "metadata": {
        "id": "fVpi_XpZ9KT_"
      },
      "source": [
        "# Information from the question\n",
        "sh_pop,rg_pop = 16_000,22_000\n",
        "sh_mean_rent, rg_mean_rent = 6300,4200\n",
        "median_rent = 4600"
      ],
      "execution_count": 10,
      "outputs": []
    },
    {
      "cell_type": "code",
      "metadata": {
        "id": "Nh3O52Bp9Yx2"
      },
      "source": [
        "# This function creates a distrabution that meets the inputted criteria\n",
        "# Input: sample_size, mean_for_samples, median_for_samples, max_num, quartile_size and start_num.\n",
        "# Output: distrabution \n",
        "def create_distrabution(pop_size, mean_rent, median_rent, max_rent, quartile,start=0):\n",
        "  # We ensure that the middle of the array is the median\n",
        "  median_arr = np.array([median_rent, median_rent])\n",
        "  # We construct 4 arrays from start -> Q1, Q-> Med and so on..\n",
        "  zero_q1_arr = np.random.randint(start, median_rent-quartile, size=((pop_size)//4)).astype(np.float)\n",
        "  q1_med_arr = np.random.randint(median_rent-quartile, median_rent, size=((pop_size)//4)-1).astype(np.float)\n",
        "  #print(max(zero_q1_arr))\n",
        "  #print(max(q1_med_arr))\n",
        "  med_q3_arr = np.random.randint(median_rent+1, median_rent+quartile, size=((pop_size)//4)-1).astype(np.float)\n",
        "  q3_end_arr = np.random.randint(median_rent+quartile, max_rent, size=((pop_size)//4)).astype(np.float)\n",
        "  # Now we need to ensure that the mean is as we want it, so we add a factor to the last subarray\n",
        "  factor = ((mean_rent*pop_size)-(np.sum(zero_q1_arr) + np.sum(q1_med_arr) + np.sum(median_arr) + np.sum(med_q3_arr) + np.sum(q3_end_arr))) / ((pop_size/4)-1)\n",
        "  if factor>0:\n",
        "    q3_end_arr += factor\n",
        "  else:\n",
        "    zero_q1_arr += factor\n",
        "  t=np.concatenate((zero_q1_arr,q1_med_arr, median_arr, med_q3_arr,q3_end_arr))\n",
        "  return np.concatenate((zero_q1_arr,q1_med_arr, median_arr, med_q3_arr,q3_end_arr))"
      ],
      "execution_count": 9,
      "outputs": []
    },
    {
      "cell_type": "markdown",
      "metadata": {
        "id": "p8SBhop2hgZM"
      },
      "source": [
        "We will use our function to get samples for the first scenario for both towns:"
      ]
    },
    {
      "cell_type": "code",
      "metadata": {
        "id": "hFwj-Q3_bmUl",
        "colab": {
          "base_uri": "https://localhost:8080/",
          "height": 111
        },
        "outputId": "35fe0d7e-9037-483a-dd37-d6de1202da86"
      },
      "source": [
        "sh_sample1 = create_distrabution(sh_pop, sh_mean_rent, median_rent, 12000, median_rent//6, 1000)\n",
        "rg_sample1 = create_distrabution(rg_pop, rg_mean_rent, median_rent, 8000, median_rent//6, 2500)\n",
        "pd1 = pd.DataFrame([{\"Population\":len(sh_sample1), \"Mean\":np.rint(np.mean(sh_sample1)),\"Median\":np.median(sh_sample1), \"IQR\":np.rint(stats.iqr(sh_sample1))},\n",
        "                      {\"Population\":len(rg_sample1), \"Mean\":np.rint(np.mean(rg_sample1)),\"Median\":np.median(rg_sample1), \"IQR\":np.rint(stats.iqr(rg_sample1))}], index=[\"SH\", \"RG\"])\n",
        "pd1"
      ],
      "execution_count": 11,
      "outputs": [
        {
          "output_type": "execute_result",
          "data": {
            "text/html": [
              "<div>\n",
              "<style scoped>\n",
              "    .dataframe tbody tr th:only-of-type {\n",
              "        vertical-align: middle;\n",
              "    }\n",
              "\n",
              "    .dataframe tbody tr th {\n",
              "        vertical-align: top;\n",
              "    }\n",
              "\n",
              "    .dataframe thead th {\n",
              "        text-align: right;\n",
              "    }\n",
              "</style>\n",
              "<table border=\"1\" class=\"dataframe\">\n",
              "  <thead>\n",
              "    <tr style=\"text-align: right;\">\n",
              "      <th></th>\n",
              "      <th>Population</th>\n",
              "      <th>Mean</th>\n",
              "      <th>Median</th>\n",
              "      <th>IQR</th>\n",
              "    </tr>\n",
              "  </thead>\n",
              "  <tbody>\n",
              "    <tr>\n",
              "      <th>SH</th>\n",
              "      <td>16000</td>\n",
              "      <td>6300.0</td>\n",
              "      <td>4600.0</td>\n",
              "      <td>2752.0</td>\n",
              "    </tr>\n",
              "    <tr>\n",
              "      <th>RG</th>\n",
              "      <td>22000</td>\n",
              "      <td>4200.0</td>\n",
              "      <td>4600.0</td>\n",
              "      <td>2092.0</td>\n",
              "    </tr>\n",
              "  </tbody>\n",
              "</table>\n",
              "</div>"
            ],
            "text/plain": [
              "    Population    Mean  Median     IQR\n",
              "SH       16000  6300.0  4600.0  2752.0\n",
              "RG       22000  4200.0  4600.0  2092.0"
            ]
          },
          "metadata": {
            "tags": []
          },
          "execution_count": 11
        }
      ]
    },
    {
      "cell_type": "markdown",
      "metadata": {
        "id": "2nXcWyT4hqj9"
      },
      "source": [
        "Now, we will run it again and get different samples:"
      ]
    },
    {
      "cell_type": "code",
      "metadata": {
        "id": "3waDpkYcboc9",
        "colab": {
          "base_uri": "https://localhost:8080/",
          "height": 111
        },
        "outputId": "df703dc5-3344-432d-e9ea-02439bef67a5"
      },
      "source": [
        "sh_sample2 = create_distrabution(sh_pop, sh_mean_rent, median_rent, 12000, median_rent//6,1000)\n",
        "rg_sample2 = create_distrabution(rg_pop, rg_mean_rent, median_rent, 8000, median_rent//6,2500)\n",
        "pd2 = pd.DataFrame([{\"Population\":len(sh_sample2), \"Mean\":np.rint(np.mean(sh_sample2)),\"Median\":np.median(sh_sample2), \"IQR\":np.rint(stats.iqr(sh_sample2))},\n",
        "                      {\"Population\":len(rg_sample2), \"Mean\":np.rint(np.mean(rg_sample2)),\"Median\":np.median(rg_sample2), \"IQR\":np.rint(stats.iqr(rg_sample2))}], index=[\"SH\", \"RG\"])\n",
        "pd2"
      ],
      "execution_count": 12,
      "outputs": [
        {
          "output_type": "execute_result",
          "data": {
            "text/html": [
              "<div>\n",
              "<style scoped>\n",
              "    .dataframe tbody tr th:only-of-type {\n",
              "        vertical-align: middle;\n",
              "    }\n",
              "\n",
              "    .dataframe tbody tr th {\n",
              "        vertical-align: top;\n",
              "    }\n",
              "\n",
              "    .dataframe thead th {\n",
              "        text-align: right;\n",
              "    }\n",
              "</style>\n",
              "<table border=\"1\" class=\"dataframe\">\n",
              "  <thead>\n",
              "    <tr style=\"text-align: right;\">\n",
              "      <th></th>\n",
              "      <th>Population</th>\n",
              "      <th>Mean</th>\n",
              "      <th>Median</th>\n",
              "      <th>IQR</th>\n",
              "    </tr>\n",
              "  </thead>\n",
              "  <tbody>\n",
              "    <tr>\n",
              "      <th>SH</th>\n",
              "      <td>16000</td>\n",
              "      <td>6300.0</td>\n",
              "      <td>4600.0</td>\n",
              "      <td>2759.0</td>\n",
              "    </tr>\n",
              "    <tr>\n",
              "      <th>RG</th>\n",
              "      <td>22000</td>\n",
              "      <td>4200.0</td>\n",
              "      <td>4600.0</td>\n",
              "      <td>2092.0</td>\n",
              "    </tr>\n",
              "  </tbody>\n",
              "</table>\n",
              "</div>"
            ],
            "text/plain": [
              "    Population    Mean  Median     IQR\n",
              "SH       16000  6300.0  4600.0  2759.0\n",
              "RG       22000  4200.0  4600.0  2092.0"
            ]
          },
          "metadata": {
            "tags": []
          },
          "execution_count": 12
        }
      ]
    },
    {
      "cell_type": "markdown",
      "metadata": {
        "id": "EExkxQsPmZ0s"
      },
      "source": [
        "We will now plot two histograms to visualize our findings:"
      ]
    },
    {
      "cell_type": "code",
      "metadata": {
        "id": "Jc0GA_faeLGk",
        "colab": {
          "base_uri": "https://localhost:8080/",
          "height": 404
        },
        "outputId": "9ecef0e7-31af-4d74-ff64-b7ecdc4006b7"
      },
      "source": [
        "# Create two histograms for each scenario\n",
        "fig, ax = plt.subplots(ncols=2, figsize=(23,6))\n",
        "# Scenario 1\n",
        "ax[0].hist(sh_sample1, color = 'red',bins=np.arange(np.min(sh_sample1), np.max(sh_sample1)+100, 200), label='sh_sample1', alpha=.9,  edgecolor='black')\n",
        "ax[0].hist(rg_sample1, color = 'blue', bins=np.arange(np.min(rg_sample1), np.max(rg_sample1)+100, 200), label='rg_sample1', alpha=.6,  edgecolor='black')\n",
        "ax[0].legend()\n",
        "ax[0].set_xlabel('rent')\n",
        "ax[0].set_ylabel('frequency')\n",
        "ax[0].set_title('Scenario 1')\n",
        "stats_sh_1 = f\"sh_sample1:\\nMean = {sh_sample1.mean()} \\nMedian = {np.median(sh_sample1)} \\nIQR = {stats.iqr(sh_sample1)} \\n\\n\"\n",
        "stats_rg_1 = f\"rg_sample1:\\nMean = {rg_sample1.mean()} \\nMedian = {np.median(rg_sample1)} \\nIQR = {stats.iqr(rg_sample1)} \\n\"\n",
        "ax[0].text(x=10000, y=250, s=(stats_sh_1 + stats_rg_1) , fontsize=12)\n",
        "\n",
        "# Scenario 2\n",
        "ax[1].hist(sh_sample2, color = 'red',bins=np.arange(np.min(sh_sample2), np.max(sh_sample2)+100, 200), label='sh_sample2', alpha=.9,  edgecolor='black')\n",
        "ax[1].hist(rg_sample2, color = 'blue', bins=np.arange(np.min(rg_sample2), np.max(rg_sample2)+100, 200), label='rg_sample2', alpha=.6,  edgecolor='black')\n",
        "ax[1].legend()\n",
        "ax[1].set_xlabel('rent')\n",
        "ax[1].set_ylabel('frequency')\n",
        "ax[1].set_title('Scenario 2')\n",
        "stats_sh_1 = f\"sh_sample2:\\nMean = {sh_sample2.mean()} \\nMedian = {np.median(sh_sample2)} \\nIQR = {stats.iqr(sh_sample2)} \\n\\n\"\n",
        "stats_rg_1 = f\"rg_sample2:\\nMean = {rg_sample2.mean()} \\nMedian = {np.median(rg_sample2)} \\nIQR = {stats.iqr(rg_sample2)} \\n\"\n",
        "ax[1].text(x=10000, y=250, s=(stats_sh_1 + stats_rg_1) , fontsize=12)\n",
        "plt.show()"
      ],
      "execution_count": 13,
      "outputs": [
        {
          "output_type": "display_data",
          "data": {
            "image/png": "[encoded data removed]",
            "text/plain": [
              "<Figure size 1656x432 with 2 Axes>"
            ]
          },
          "metadata": {
            "tags": [],
            "needs_background": "light"
          }
        }
      ]
    },
    {
      "cell_type": "markdown",
      "metadata": {
        "id": "0GBfBJaumk_O"
      },
      "source": [
        "In the commented cell below, it can be found another approach to building the distrabution. This is a more brute force approach."
      ]
    },
    {
      "cell_type": "code",
      "metadata": {
        "id": "2t8Krihu03P_"
      },
      "source": [
        "\n",
        "# sh_sample = np.array([1000] * 10 + [2000] * 10 + [3000] * 10 + [4000] * 3970 + [4600] * 4200 + [5000] * 10 + [7000] * 1900 + [8000] * 2020 + [9000] * 2670 + [10000] * 1200)\n",
        "# pd.DataFrame(sample).hist(bins=10, \n",
        "#                           figsize=(9,9),\n",
        "#                           edgecolor=\"k\", linewidth=1)\n",
        "\n",
        "# rg_sample = np.array([1000] * 8080 + [2000] * 10 + [3000] * 10 + [4000] * 10 + [4600] * 7200 + [5000] *10  + [7000] * 3900 + [8000] * 1270 + [9000] * 1500 + [10000] * 10)\n",
        "# pd.DataFrame(sample).hist(bins=10, \n",
        "#                           figsize=(9,9),\n",
        "#                           edgecolor=\"k\", linewidth=1)"
      ],
      "execution_count": null,
      "outputs": []
    },
    {
      "cell_type": "markdown",
      "metadata": {
        "id": "alJTxxPwOsjn"
      },
      "source": [
        "#### 2.B\n",
        "Draw a histogram of a third scenario with the same properties. <br>\n",
        "In addition, in this scenario the rent in SH should have a higher variance than the rent in RG."
      ]
    },
    {
      "cell_type": "markdown",
      "metadata": {
        "id": "GxNLcnEdm2Hk"
      },
      "source": [
        "We will use our function to get samples for the third scenario for both towns and edit the inputs in order to ensure that we meet the requirements for the variance:"
      ]
    },
    {
      "cell_type": "code",
      "metadata": {
        "id": "M_VpteBkOsjo",
        "colab": {
          "base_uri": "https://localhost:8080/",
          "height": 111
        },
        "outputId": "42cda201-d62c-4b20-8cfd-2a765f87d366"
      },
      "source": [
        "sh_sample3 = create_distrabution(sh_pop, sh_mean_rent, median_rent, 12000, median_rent//6,1000)\n",
        "rg_sample3 = create_distrabution(rg_pop, rg_mean_rent, median_rent, 8000, median_rent//6,2500)\n",
        "pd3 = pd.DataFrame([{\"Population\":len(sh_sample3), \"Mean\":np.rint(np.mean(sh_sample3)),\"Median\":np.median(sh_sample3), \"IQR\":np.rint(stats.iqr(sh_sample3)), \"Variance\":np.rint(np.var(sh_sample3))},\n",
        "                      {\"Population\":len(rg_sample3), \"Mean\":np.rint(np.mean(rg_sample3)),\"Median\":np.median(rg_sample3), \"IQR\":np.rint(stats.iqr(rg_sample3)),\"Variance\":np.rint(np.var(rg_sample3))}], index=[\"SH\", \"RG\"])\n",
        "pd3"
      ],
      "execution_count": 19,
      "outputs": [
        {
          "output_type": "execute_result",
          "data": {
            "text/html": [
              "<div>\n",
              "<style scoped>\n",
              "    .dataframe tbody tr th:only-of-type {\n",
              "        vertical-align: middle;\n",
              "    }\n",
              "\n",
              "    .dataframe tbody tr th {\n",
              "        vertical-align: top;\n",
              "    }\n",
              "\n",
              "    .dataframe thead th {\n",
              "        text-align: right;\n",
              "    }\n",
              "</style>\n",
              "<table border=\"1\" class=\"dataframe\">\n",
              "  <thead>\n",
              "    <tr style=\"text-align: right;\">\n",
              "      <th></th>\n",
              "      <th>Population</th>\n",
              "      <th>Mean</th>\n",
              "      <th>Median</th>\n",
              "      <th>IQR</th>\n",
              "      <th>Variance</th>\n",
              "    </tr>\n",
              "  </thead>\n",
              "  <tbody>\n",
              "    <tr>\n",
              "      <th>SH</th>\n",
              "      <td>16000</td>\n",
              "      <td>6300.0</td>\n",
              "      <td>4600.0</td>\n",
              "      <td>2736.0</td>\n",
              "      <td>19706817.0</td>\n",
              "    </tr>\n",
              "    <tr>\n",
              "      <th>RG</th>\n",
              "      <td>22000</td>\n",
              "      <td>4200.0</td>\n",
              "      <td>4600.0</td>\n",
              "      <td>2099.0</td>\n",
              "      <td>4640156.0</td>\n",
              "    </tr>\n",
              "  </tbody>\n",
              "</table>\n",
              "</div>"
            ],
            "text/plain": [
              "    Population    Mean  Median     IQR    Variance\n",
              "SH       16000  6300.0  4600.0  2736.0  19706817.0\n",
              "RG       22000  4200.0  4600.0  2099.0   4640156.0"
            ]
          },
          "metadata": {
            "tags": []
          },
          "execution_count": 19
        }
      ]
    },
    {
      "cell_type": "markdown",
      "metadata": {
        "id": "4MyYshHFm_2Z"
      },
      "source": [
        "We will now plot two histograms to visualize our findings:"
      ]
    },
    {
      "cell_type": "code",
      "metadata": {
        "colab": {
          "base_uri": "https://localhost:8080/",
          "height": 404
        },
        "id": "tCO8waPMCqeN",
        "outputId": "e9935f32-df2c-471b-b849-2046bb06f2cc"
      },
      "source": [
        "fig, ax = plt.subplots(ncols=1, figsize=(23,6))\n",
        "# Scenario 1\n",
        "ax.hist(sh_sample3, color = 'red',bins=np.arange(np.min(sh_sample3), np.max(sh_sample3)+100, 200), label='sh_sample3', alpha=.9,  edgecolor='black')\n",
        "ax.hist(rg_sample3, color = 'blue', bins=np.arange(np.min(rg_sample3), np.max(rg_sample3)+100, 200), label='rg_sample3', alpha=.6,  edgecolor='black')\n",
        "ax.legend()\n",
        "ax.set_xlabel('rent')\n",
        "ax.set_ylabel('frequency')\n",
        "ax.set_title('Scenario 3')\n",
        "stats_sh_1 = f\"sh_sample3:\\nMean = {sh_sample3.mean()} \\nMedian = {np.median(sh_sample3)} \\nIQR = {stats.iqr(sh_sample3)} \\nVariance = {np.var(sh_sample3)} \\n\\n\"\n",
        "stats_rg_1 = f\"rg_sample3:\\nMean = {rg_sample3.mean()} \\nMedian = {np.median(rg_sample3)} \\nIQR = {stats.iqr(rg_sample3)} \\nVariance = {np.var(rg_sample3)} \\n\"\n",
        "ax.text(x=10000, y=250, s=(stats_sh_1 + stats_rg_1) , fontsize=12)\n",
        "plt.show()"
      ],
      "execution_count": 15,
      "outputs": [
        {
          "output_type": "display_data",
          "data": {
            "image/png": "[encoded data removed]",
            "text/plain": [
              "<Figure size 1656x432 with 1 Axes>"
            ]
          },
          "metadata": {
            "tags": [],
            "needs_background": "light"
          }
        }
      ]
    },
    {
      "cell_type": "markdown",
      "metadata": {
        "id": "UZ-dbA6eOsjr"
      },
      "source": [
        "The survey also examined the per household income (PHI) in these two places.<br>\n",
        "\n",
        "It found that:<br>\n",
        "* The mean of PHI in SH is 12500 and in RG is 8500.\n",
        "* The median is 12000 in SH and 8000 in RG.\n",
        "* The covariance of the rent and the PHI was observed to be as in the formula below with $\\alpha=97\\%$ and $\\alpha=89\\%$ in SH and in RG respectively.<br><br>\n",
        "$$Cov(rent, PHI) = \\alpha * \\sqrt{Var(rent)} * \\sqrt{Var(PHI)}$$\n",
        "\n",
        "#### 2.C\n",
        "Produce rent and PHI data for the two cities, that is consistent with these findings. The covariances in your data can deviate by up to 1% from the numbers given $\\alpha$."
      ]
    },
    {
      "cell_type": "code",
      "metadata": {
        "id": "81GshsoK6qZg"
      },
      "source": [
        "# Information from the question\n",
        "sh_PHI_mean,rg_PHI_mean = 12500,8500\n",
        "sh_PHI_median,rg_PHI_median = 12000,8000"
      ],
      "execution_count": 16,
      "outputs": []
    },
    {
      "cell_type": "code",
      "metadata": {
        "id": "-TWnirXDOsjs"
      },
      "source": [
        "# Sampling data for SH\n",
        "sh_sample4 = create_distrabution(sh_pop, sh_mean_rent, median_rent, 6500, 1000, 2400)\n",
        "sh_PHI = create_distrabution(sh_pop, sh_PHI_mean, sh_PHI_median, 12700, 50,10000)\n",
        "SH_cov_rent_PHI = np.cov(sh_sample4,sh_PHI, ddof=0)[1][0]\n",
        "# Sampling data for RG\n",
        "rg_sample4 = create_distrabution(rg_pop, rg_mean_rent, median_rent, 9000, 1000, 3500)\n",
        "rg_PHI = create_distrabution(rg_pop, rg_PHI_mean, rg_PHI_median, 13500, 1000,2000)\n",
        "RG_cov_rent_PHI = np.cov(rg_sample4,rg_PHI, ddof=0)[1][0]"
      ],
      "execution_count": 17,
      "outputs": []
    },
    {
      "cell_type": "code",
      "metadata": {
        "colab": {
          "base_uri": "https://localhost:8080/",
          "height": 173
        },
        "id": "TJ3yQd10nNb5",
        "outputId": "c9a09596-6d44-4049-bd8f-562677f765e5"
      },
      "source": [
        "pd4 = pd.DataFrame([{\"Population\":len(sh_sample4), \"Mean\":np.rint(np.mean(sh_sample4)),\"Median\":np.median(sh_sample4), \"IQR\":np.rint(stats.iqr(sh_sample4)), \"Variance\":np.rint(np.var(sh_sample4))},\n",
        "                    {\"Population\":len(sh_PHI), \"Mean\":np.rint(np.mean(sh_PHI)),\"Median\":np.median(sh_PHI), \"IQR\":np.rint(stats.iqr(sh_PHI)), \"Variance\":np.rint(np.var(sh_PHI))},\n",
        "                      {\"Population\":len(rg_sample4), \"Mean\":np.rint(np.mean(rg_sample4)),\"Median\":np.median(rg_sample4), \"IQR\":np.rint(stats.iqr(rg_sample4)),\"Variance\":np.rint(np.var(rg_sample4))},\n",
        "                    {\"Population\":len(rg_PHI), \"Mean\":np.rint(np.mean(rg_PHI)),\"Median\":np.median(rg_PHI), \"IQR\":np.rint(stats.iqr(rg_PHI)),\"Variance\":np.rint(np.var(rg_PHI))}], index=[\"SH Rent\", \"SH PHI\", \"RG Rent\", \"RG PHI\",])\n",
        "pd4"
      ],
      "execution_count": 20,
      "outputs": [
        {
          "output_type": "execute_result",
          "data": {
            "text/html": [
              "<div>\n",
              "<style scoped>\n",
              "    .dataframe tbody tr th:only-of-type {\n",
              "        vertical-align: middle;\n",
              "    }\n",
              "\n",
              "    .dataframe tbody tr th {\n",
              "        vertical-align: top;\n",
              "    }\n",
              "\n",
              "    .dataframe thead th {\n",
              "        text-align: right;\n",
              "    }\n",
              "</style>\n",
              "<table border=\"1\" class=\"dataframe\">\n",
              "  <thead>\n",
              "    <tr style=\"text-align: right;\">\n",
              "      <th></th>\n",
              "      <th>Population</th>\n",
              "      <th>Mean</th>\n",
              "      <th>Median</th>\n",
              "      <th>IQR</th>\n",
              "      <th>Variance</th>\n",
              "    </tr>\n",
              "  </thead>\n",
              "  <tbody>\n",
              "    <tr>\n",
              "      <th>SH Rent</th>\n",
              "      <td>16000</td>\n",
              "      <td>6300.0</td>\n",
              "      <td>4600.0</td>\n",
              "      <td>3737.0</td>\n",
              "      <td>15609540.0</td>\n",
              "    </tr>\n",
              "    <tr>\n",
              "      <th>SH PHI</th>\n",
              "      <td>16000</td>\n",
              "      <td>12500.0</td>\n",
              "      <td>12000.0</td>\n",
              "      <td>766.0</td>\n",
              "      <td>2421069.0</td>\n",
              "    </tr>\n",
              "    <tr>\n",
              "      <th>RG Rent</th>\n",
              "      <td>22000</td>\n",
              "      <td>4200.0</td>\n",
              "      <td>4600.0</td>\n",
              "      <td>2816.0</td>\n",
              "      <td>6745315.0</td>\n",
              "    </tr>\n",
              "    <tr>\n",
              "      <th>RG PHI</th>\n",
              "      <td>22000</td>\n",
              "      <td>8500.0</td>\n",
              "      <td>8000.0</td>\n",
              "      <td>2564.0</td>\n",
              "      <td>11494954.0</td>\n",
              "    </tr>\n",
              "  </tbody>\n",
              "</table>\n",
              "</div>"
            ],
            "text/plain": [
              "         Population     Mean   Median     IQR    Variance\n",
              "SH Rent       16000   6300.0   4600.0  3737.0  15609540.0\n",
              "SH PHI        16000  12500.0  12000.0   766.0   2421069.0\n",
              "RG Rent       22000   4200.0   4600.0  2816.0   6745315.0\n",
              "RG PHI        22000   8500.0   8000.0  2564.0  11494954.0"
            ]
          },
          "metadata": {
            "tags": []
          },
          "execution_count": 20
        }
      ]
    },
    {
      "cell_type": "markdown",
      "metadata": {
        "id": "jwEaYoXwnmjF"
      },
      "source": [
        "In the table below we can see that our alternative formula for the covaruance is within $1\\%$ from the actual covariance"
      ]
    },
    {
      "cell_type": "code",
      "metadata": {
        "colab": {
          "base_uri": "https://localhost:8080/",
          "height": 111
        },
        "id": "y9JaGqJotdFs",
        "outputId": "a9454b90-c604-4c67-e9d2-00c58cc1aebe"
      },
      "source": [
        "pd_cov = pd.DataFrame([{\"Covarince\":('%.1f' % SH_cov_rent_PHI), \"Alternative Covarince\":( '%.1f' % (np.sqrt(np.var(sh_sample4))*np.sqrt(np.var(sh_PHI)))),\"Alpha\":0.97, \"Ratio Covarince/Alternative Covarince\":(np.cov(sh_sample4,sh_PHI, ddof=0)[1][0])/(np.sqrt(np.var(sh_sample4))*np.sqrt(np.var(sh_PHI)))},\n",
        "                    {\"Covarince\":('%.1f' %RG_cov_rent_PHI), \"Alternative Covarince\":('%.1f' % (np.sqrt(np.var(rg_sample4))*np.sqrt(np.var(rg_PHI)))),\"Alpha\":0.89, \"Ratio Covarince/Alternative Covarince\":(np.cov(rg_sample4,rg_PHI, ddof=0)[1][0])/(np.sqrt(np.var(rg_sample4))*np.sqrt(np.var(rg_PHI)))}], index=[\"SH-PHI\",\"RG-PHI\"])\n",
        "pd_cov"
      ],
      "execution_count": 21,
      "outputs": [
        {
          "output_type": "execute_result",
          "data": {
            "text/html": [
              "<div>\n",
              "<style scoped>\n",
              "    .dataframe tbody tr th:only-of-type {\n",
              "        vertical-align: middle;\n",
              "    }\n",
              "\n",
              "    .dataframe tbody tr th {\n",
              "        vertical-align: top;\n",
              "    }\n",
              "\n",
              "    .dataframe thead th {\n",
              "        text-align: right;\n",
              "    }\n",
              "</style>\n",
              "<table border=\"1\" class=\"dataframe\">\n",
              "  <thead>\n",
              "    <tr style=\"text-align: right;\">\n",
              "      <th></th>\n",
              "      <th>Covarince</th>\n",
              "      <th>Alternative Covarince</th>\n",
              "      <th>Alpha</th>\n",
              "      <th>Ratio Covarince/Alternative Covarince</th>\n",
              "    </tr>\n",
              "  </thead>\n",
              "  <tbody>\n",
              "    <tr>\n",
              "      <th>SH-PHI</th>\n",
              "      <td>5961789.5</td>\n",
              "      <td>6147501.7</td>\n",
              "      <td>0.97</td>\n",
              "      <td>0.969791</td>\n",
              "    </tr>\n",
              "    <tr>\n",
              "      <th>RG-PHI</th>\n",
              "      <td>7839761.5</td>\n",
              "      <td>8805514.9</td>\n",
              "      <td>0.89</td>\n",
              "      <td>0.890324</td>\n",
              "    </tr>\n",
              "  </tbody>\n",
              "</table>\n",
              "</div>"
            ],
            "text/plain": [
              "        Covarince  ... Ratio Covarince/Alternative Covarince\n",
              "SH-PHI  5961789.5  ...                              0.969791\n",
              "RG-PHI  7839761.5  ...                              0.890324\n",
              "\n",
              "[2 rows x 4 columns]"
            ]
          },
          "metadata": {
            "tags": []
          },
          "execution_count": 21
        }
      ]
    },
    {
      "cell_type": "markdown",
      "metadata": {
        "id": "qluC9BL8n5m3"
      },
      "source": [
        "We will now plot two histograms to visualize our findings:"
      ]
    },
    {
      "cell_type": "code",
      "metadata": {
        "colab": {
          "base_uri": "https://localhost:8080/",
          "height": 404
        },
        "id": "JczUEJf0wTr6",
        "outputId": "d597a01d-747e-4638-d52c-c9a1ed519c88"
      },
      "source": [
        "fig, ax = plt.subplots(ncols=2, figsize=(23,6))\n",
        "# Scenario 1\n",
        "ax[0].hist(sh_sample4, color = 'red',bins=np.arange(np.min(sh_sample4), np.max(sh_sample4)+100, 200), label='sh_rent', alpha=.9,  edgecolor='black')\n",
        "ax[0].hist(sh_PHI, color = 'blue', bins=np.arange(np.min(sh_PHI), np.max(sh_PHI)+100, 200), label='sh_PHI', alpha=.6,  edgecolor='black')\n",
        "ax[0].legend()\n",
        "ax[0].set_xlabel('rent')\n",
        "ax[0].set_ylabel('frequency')\n",
        "ax[0].set_title('SH')\n",
        "\n",
        "ax[1].hist(rg_sample4, color = 'red',bins=np.arange(np.min(rg_sample4), np.max(rg_sample4)+100, 200), label='rg_rent', alpha=.9,  edgecolor='black')\n",
        "ax[1].hist(rg_PHI, color = 'blue', bins=np.arange(np.min(rg_PHI), np.max(rg_PHI)+100, 200), label='rg_PHI', alpha=.6,  edgecolor='black')\n",
        "ax[1].legend()\n",
        "ax[1].set_xlabel('rent')\n",
        "ax[1].set_ylabel('frequency')\n",
        "ax[1].set_title('RG')\n",
        "plt.show()"
      ],
      "execution_count": 22,
      "outputs": [
        {
          "output_type": "display_data",
          "data": {
            "image/png": "[encoded data removed]",
            "text/plain": [
              "<Figure size 1656x432 with 2 Axes>"
            ]
          },
          "metadata": {
            "tags": [],
            "needs_background": "light"
          }
        }
      ]
    },
    {
      "cell_type": "markdown",
      "metadata": {
        "id": "QZ1hLA1wOsjv"
      },
      "source": [
        "#### 2.D\n",
        "Produce two heatmaps that describe these two bivariate joint distributions. Make sure you carefully consider the selected binning resolution."
      ]
    },
    {
      "cell_type": "code",
      "metadata": {
        "id": "FcXNPTD1Osjw",
        "colab": {
          "base_uri": "https://localhost:8080/",
          "height": 371
        },
        "outputId": "b5a6e632-40fb-44e4-9c13-bb75ba41a38f"
      },
      "source": [
        "fig, ax = plt.subplots(ncols=2, figsize=(23,6))\n",
        "\n",
        "#HEATMAP PLOT 1\n",
        "_, _, _, im_sh = ax[0].hist2d(sh_sample4, sh_PHI, bins=15)\n",
        "ax[0].set_xlabel('Rent')\n",
        "ax[0].set_ylabel('PHI')\n",
        "ax[0].set_title('SH')\n",
        "cbaxes = fig.add_axes([0.05, 0.15, 0.01, 0.7]) \n",
        "fig.colorbar(im_sh, ax=ax, cax=cbaxes)\n",
        "\n",
        "#HEATMAP PLOT 2\n",
        "_, _, _, im_rg = ax[1].hist2d(rg_sample4, rg_PHI, bins=15)\n",
        "ax[1].set_xlabel('Rent')\n",
        "ax[1].set_ylabel('PHI')\n",
        "ax[1].set_title('RG')\n",
        "cbaxes = fig.add_axes([0.92, 0.15, 0.01, 0.7]) \n",
        "fig.colorbar(im_rg, ax=ax, cax=cbaxes)\n",
        "plt.show()"
      ],
      "execution_count": 64,
      "outputs": [
        {
          "output_type": "display_data",
          "data": {
            "image/png": "[encoded data removed]",
            "text/plain": [
              "<Figure size 1656x432 with 4 Axes>"
            ]
          },
          "metadata": {
            "tags": [],
            "needs_background": "light"
          }
        }
      ]
    },
    {
      "cell_type": "markdown",
      "metadata": {
        "id": "xpfka0KCOsjy"
      },
      "source": [
        "### Question 3 - Covariance and independence"
      ]
    },
    {
      "cell_type": "markdown",
      "metadata": {
        "id": "mWQnOWcsOsjz"
      },
      "source": [
        "What is the variance of the sum X +Y + Z of three random variables in terms of the variances of X, Y and Z and the covariances between each pair of random variables? What happens if X,Y,Z are pairwise independent? If X,Y,Z are pairwise independent, are they necessarily collectively independent? Prove your answer."
      ]
    },
    {
      "cell_type": "markdown",
      "metadata": {
        "id": "tUKp8HO43BiF"
      },
      "source": [
        "We begin by solving for the variance of the sum:\n",
        "\n",
        "$$Var(X + Y + Z) = Var(X + Y ) + Var(Z) + 2 · Cov(X + Y, Z)= [Var(X) + Var(Y ) + 2 · Cov(X, Y )] + Var(Z) + 2 · E[(X + Y − µ_X − µ_Y )(Z − µ_Z)]$$\n",
        "\n",
        "We can expand out the last term in the previous line by using the definiton of Covariance:\n",
        "$$ E[(X + Y − µx − µY )(Z − µZ)] = E[(X − µx)(Z − µZ) + (Y − µY )(Z − µZ)]$$\n",
        "$$= Cov(X, Z) + Cov(Y, Z)$$\n",
        "\n",
        "Plugging back into our previous equation we have variance is:\n",
        "$$Var(X + Y + Z) = Var(X) + Var(Y ) + Var(Z) + 2Cov(X, Z) + 2Cov(Y, Z) + 2Cov(X, Z)$$\n",
        "\n",
        "If $X, Y, Z$ are all pairwise independent, then:\n",
        "$$ Cov(X, Z) = Cov(Y, Z) = Cov(X, Z) = 0$$ \n",
        "$$\\Rightarrow Var(X + Y + Z) = Var(X) + Var(Y ) + Var(Z)$$\n",
        "\n",
        "If $X,Y,Z$ are pairwise independant, this does not imply that they are collectively independent. <br>\n",
        "In order to show this, we would require a given example to show that, $$P(X \\cap Y) =P(X \\cap Z) = P(Z \\cap Y)$$ However,  $$P(X \\cap Y \\cap Z) \\neq P(X)\\cdot P(Y)\\cdot P(Z)$$ \n",
        "\n"
      ]
    },
    {
      "cell_type": "markdown",
      "metadata": {
        "id": "LLtED-m3GtfN"
      },
      "source": [
        "We will show an example:<br>\n",
        "We throw two dice. Let $A$ be the event “the sum of the points is 7”, $B$ the event “die #1\n",
        "came up 3”, and $C$ the event “die #2 came up 4”. <br>Now, $$P[A] = P[B] = P[C] = 1/6$$\n",
        "Also,\n",
        "$$P[A ∩ B] = P[A ∩ C] = P[B ∩ C] = 1/36$$\n",
        "so that all events are pairwise independent. However,\n",
        "$$P[A ∩ B ∩ C] = P[B ∩ C] = 1/36$$\n",
        "while,\n",
        "$$P[A]P[B]P[C] = 1/216$$\n",
        "so they are not independent as a triplet.\n",
        "First, note that, indeed, $$P[A ∩ B] = P[B ∩ C] = 1/36$$ since the fact that A and $B$ occurred is the same as\n",
        "the fact that $B$ and $C$ occurred."
      ]
    },
    {
      "cell_type": "markdown",
      "metadata": {
        "id": "Tq9yYq38Osj1"
      },
      "source": [
        "### Question 4 - Convolutions"
      ]
    },
    {
      "cell_type": "markdown",
      "metadata": {
        "id": "7vmSPnZEOsj2"
      },
      "source": [
        "#### 4.A\n",
        "Write a program, `Q = NFoldConv(P , n)`, that takes as input:\n",
        "* A distribution, P, of a random variable that takes finitely many integer values\n",
        "* An integer n\n",
        "\n",
        "and produces the distribution, Q, of the sum of n independent repeats of random variables, each of which has the distribution P."
      ]
    },
    {
      "cell_type": "code",
      "metadata": {
        "id": "NoPXedcwtcLJ"
      },
      "source": [
        "# This function creates a convolution distrabution given P and n iterations\n",
        "# Input: matrix p (values, probabilities) and integer n\n",
        "# Output: distrabution \n",
        "def NFoldConv(P , n):\n",
        "  dist = P\n",
        "  for i in range(n-1):\n",
        "    dist = convolution2Dist(P,dist)\n",
        "  return dist"
      ],
      "execution_count": 69,
      "outputs": []
    },
    {
      "cell_type": "code",
      "metadata": {
        "id": "JXhGj35tOsj2"
      },
      "source": [
        "# This function is a helper function for the NFoldConv\n",
        "def convolution2Dist(P1,P2):\n",
        "  len1 = len(P1[0])\n",
        "  len2 = len(P2[0])\n",
        "  newDist = np.zeros((2,len1 * len2)) ## creat array of size 2 dimantion, (2,P1[0].len * P2[0].len)\n",
        "  \n",
        "  for i in range(len1):\n",
        "    for j in range(len2):\n",
        "      newDist[0][j + (i * len2)] = P1[0][i]+P2[0][j] #set values on 0 until i*j\n",
        "      newDist[1][j + (i * len2)] = P1[1][i]*P2[1][j] #set probs on 0 until i*j\n",
        "  \n",
        "  ##for uniq values in newDist[0], conect them and sum the values of newDist[1] in the same insecis.\n",
        "  u, inv = np.unique(newDist[0], return_inverse=True)\n",
        "  sums = np.zeros(len(u), dtype=newDist[1].dtype)\n",
        "  np.add.at(sums, inv, newDist[1])  \n",
        "  return  np.array([u,sums])"
      ],
      "execution_count": 70,
      "outputs": []
    },
    {
      "cell_type": "markdown",
      "metadata": {
        "id": "s6I5pEFQOsj4"
      },
      "source": [
        "#### 4.B\n",
        "Compute the distribution of the sum of the results of rolling a fair octahedron 17 times.\n",
        "\n",
        "<img src=\"https://upload.wikimedia.org/wikipedia/commons/2/27/Octahedron.jpg\" width=\"200\">\n"
      ]
    },
    {
      "cell_type": "markdown",
      "metadata": {
        "id": "fHWwSN295q4l"
      },
      "source": [
        "The distrabution of a fair octahedron dice looks like:\n",
        "\n",
        "$$P=\\begin{pmatrix}\n",
        "1 & 2 & 3 & 4 & 5 & 6 & 7 & 8 \\\\\n",
        "0.125 & 0.125 & 0.125 & 0.125 & 0.125& 0.125 & 0.125 & 0.125\n",
        "\\end{pmatrix}$$"
      ]
    },
    {
      "cell_type": "code",
      "metadata": {
        "colab": {
          "base_uri": "https://localhost:8080/",
          "height": 374
        },
        "id": "9MOIA4vR0WKN",
        "outputId": "0a0ef9d9-fb83-43c9-dd93-0c8c0dfd20f7"
      },
      "source": [
        "P = np.array([[1,2,3,4,5,6,7,8],[1/8, 1/8, 1/8, 1/8, 1/8, 1/8, 1/8, 1/8]])\n",
        "n = 17\n",
        "dist = NFoldConv(P=P,n=n)\n",
        "X = dist[0]\n",
        "Y = dist[1]\n",
        "fig, ax = plt.subplots(ncols=1, figsize=(23,6))\n",
        "ax.bar(X,Y)\n",
        "plt.show()\n"
      ],
      "execution_count": 71,
      "outputs": [
        {
          "output_type": "display_data",
          "data": {
            "image/png": "[encoded data removed]",
            "text/plain": [
              "<Figure size 1656x432 with 1 Axes>"
            ]
          },
          "metadata": {
            "tags": [],
            "needs_background": "light"
          }
        }
      ]
    },
    {
      "cell_type": "markdown",
      "metadata": {
        "id": "-B40CNHhOsj7"
      },
      "source": [
        "#### 4.C\n",
        "Assume that the price of a stock changes in any given day according to (in NIS):\n",
        "\n",
        "$$P=\\begin{pmatrix}\n",
        "-1 & 0 & 1 & 2 & 3 \\\\\n",
        "0.3 & 0.15 & 0.15 & 0.15 & 0.25\n",
        "\\end{pmatrix}$$\n",
        "\n",
        "1. What is the distribution of the change in stock after 2 consecutive days of (independent) changes? After 5 consecutive days? "
      ]
    },
    {
      "cell_type": "code",
      "metadata": {
        "id": "GexOR1ggHKQl"
      },
      "source": [
        "# This function creates a convolution distrabution using NFoldConv and prints the barchart\n",
        "# Input: matrix p (values, probabilities) and integer n\n",
        "# Output: distrabution \n",
        "def showDistrabution(P, n):\n",
        "  # Computer distrabution\n",
        "  dist = NFoldConv(P=P,n=n)\n",
        "  X = dist[0]\n",
        "  Y = dist[1]\n",
        "  # Plot the results\n",
        "  fig, ax = plt.subplots(ncols=1, figsize=(23,6))\n",
        "  ax.bar(X,Y)\n",
        "  plt.show()\n",
        "  return dist"
      ],
      "execution_count": 72,
      "outputs": []
    },
    {
      "cell_type": "code",
      "metadata": {
        "colab": {
          "base_uri": "https://localhost:8080/",
          "height": 374
        },
        "id": "5XH7i4-AHevv",
        "outputId": "dd0876a6-f8e7-4033-d5c1-c24fe4185f06"
      },
      "source": [
        "P = [[-1,0,1,2,3],[0.3, 0.15, 0.15, 0.15, 0.25]]\n",
        "n = 2\n",
        "dist_of_2_days = showDistrabution(P,n)"
      ],
      "execution_count": 74,
      "outputs": [
        {
          "output_type": "display_data",
          "data": {
            "image/png": "[encoded data removed]",
            "text/plain": [
              "<Figure size 1656x432 with 1 Axes>"
            ]
          },
          "metadata": {
            "tags": [],
            "needs_background": "light"
          }
        }
      ]
    },
    {
      "cell_type": "markdown",
      "metadata": {
        "id": "8HqY2E2pujGn"
      },
      "source": [
        "The convolution distrabution found is:\n",
        "\n",
        "$$P=\\begin{pmatrix}\n",
        "-2 & -1 & 0 & 1 & 2 & 3 & 4 & 5 & 6\\\\\n",
        "0.09 & 0.09 & 0.1125 & 0.135 & 0.2175& 0.12 & 0.0975 & 0.075 & 0.0625\n",
        "\\end{pmatrix}$$"
      ]
    },
    {
      "cell_type": "code",
      "metadata": {
        "id": "dZt5wlOwOsj8",
        "colab": {
          "base_uri": "https://localhost:8080/",
          "height": 374
        },
        "outputId": "28dbabd5-2063-4b4e-fb12-1f98e1272c18"
      },
      "source": [
        "P = [[-1,0,1,2,3],[0.3, 0.15, 0.15, 0.15, 0.25]]\n",
        "n = 5\n",
        "dist_of_5_days = showDistrabution(P,n)"
      ],
      "execution_count": 76,
      "outputs": [
        {
          "output_type": "display_data",
          "data": {
            "image/png": "[encoded data removed]",
            "text/plain": [
              "<Figure size 1656x432 with 1 Axes>"
            ]
          },
          "metadata": {
            "tags": [],
            "needs_background": "light"
          }
        }
      ]
    },
    {
      "cell_type": "markdown",
      "metadata": {
        "id": "lzQRSS_AvJNa"
      },
      "source": [
        "The convolution distrabution found is:\n",
        "\n",
        "$$P=\\begin{pmatrix}\n",
        "-5 &-4 &-3 &-2 &-1 & 0 & 1 & 2 &3 & 4 & 5\\\\\n",
        "0.00243 & 0.006075 & 0.01215 & 0.0213 & 0.0382 & 0.0537 & 0.0707 & 0.0870 & 0.1041 & 0.1072 & 0.1064 \\\\\n",
        "6 & 7 & 8 & 9 & 10 & 11 & 12 & 13 &14 & 15\\\\\n",
        "0.0997 & 0.0886 & 0.0684 & 0.0517 & 0.0364 & 0.0234 & 0.012 & 0.0064 & 0.0029 & 0.0009\n",
        "\\end{pmatrix}$$"
      ]
    },
    {
      "cell_type": "markdown",
      "metadata": {
        "id": "eOVaDZpNOsj-"
      },
      "source": [
        "2. What is the probability that the stock has gained strictly more than 7NIS after 5 days? Has lost strictly more than 4NIS? Explain your answers."
      ]
    },
    {
      "cell_type": "markdown",
      "metadata": {
        "id": "5QN-06rbzgyi"
      },
      "source": [
        "We begin by first calculating the probaility that the stock has gained strictly more than 7NIS after 5 days. We do this by summing all the proabilities for which the values is strictly greater than 7"
      ]
    },
    {
      "cell_type": "code",
      "metadata": {
        "colab": {
          "base_uri": "https://localhost:8080/"
        },
        "id": "lfkNWeWuDhDn",
        "outputId": "4bcf55d9-eee5-402c-e544-3653b3412921"
      },
      "source": [
        "#we will first calculate the cdf for 5 day when p(X>7)\n",
        "cdf = 0\n",
        "for i in range(len(dist_of_5_days[0])):\n",
        "  if(dist_of_5_days[0][i] > 7):\n",
        "    cdf += dist_of_5_days[1][i]\n",
        "print(cdf)"
      ],
      "execution_count": null,
      "outputs": [
        {
          "output_type": "stream",
          "text": [
            "0.202211875\n"
          ],
          "name": "stdout"
        }
      ]
    },
    {
      "cell_type": "markdown",
      "metadata": {
        "id": "Vob6DkRZ8ZHk"
      },
      "source": [
        "We found that the probability that the stock has gained strictly more than 7NIS is $0.2022$."
      ]
    },
    {
      "cell_type": "markdown",
      "metadata": {
        "id": "TDmCTEALzy7r"
      },
      "source": [
        "And we now do the same for -4NIS:"
      ]
    },
    {
      "cell_type": "code",
      "metadata": {
        "id": "hY7wcG-YOsj-",
        "colab": {
          "base_uri": "https://localhost:8080/"
        },
        "outputId": "47e9ee63-6f83-48a7-da88-52bf26a7a00a"
      },
      "source": [
        "#we will first calculate the cdf for 5 day when p(X<-4)\n",
        "cdf = 0\n",
        "for i in range(len(dist_of_5_days[0])):\n",
        "  if(dist_of_5_days[0][i] < -4):\n",
        "    cdf += dist_of_5_days[1][i]\n",
        "print(cdf)"
      ],
      "execution_count": null,
      "outputs": [
        {
          "output_type": "stream",
          "text": [
            "0.00243\n"
          ],
          "name": "stdout"
        }
      ]
    },
    {
      "cell_type": "markdown",
      "metadata": {
        "id": "HOdy7JME8nSu"
      },
      "source": [
        "We found that the probability that the stock has gained strictly more than 7NIS is  $0.00243$.\n"
      ]
    },
    {
      "cell_type": "markdown",
      "metadata": {
        "id": "ctt90pWPz4xM"
      },
      "source": [
        "End of Assingment"
      ]
    }
  ]
}